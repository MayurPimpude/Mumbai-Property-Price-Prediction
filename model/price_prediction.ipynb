{
  "cells": [
    {
      "cell_type": "code",
      "execution_count": 1,
      "metadata": {
        "id": "GIcqZ9PJMldY"
      },
      "outputs": [],
      "source": [
        "import pandas as pd\n",
        "import numpy as np\n",
        "import matplotlib.pyplot as plt \n",
        "import matplotlib_inline\n",
        "import matplotlib\n",
        "matplotlib.rcParams[\"figure.figsize\"] = (20,10)\n"
      ]
    },
    {
      "cell_type": "code",
      "execution_count": 2,
      "metadata": {
        "colab": {
          "base_uri": "https://localhost:8080/",
          "height": 287
        },
        "id": "-tPy7njiN7dM",
        "outputId": "dd1d06f6-c33c-40bd-ff75-a6ed43d3907a"
      },
      "outputs": [
        {
          "data": {
            "text/html": [
              "<div>\n",
              "<style scoped>\n",
              "    .dataframe tbody tr th:only-of-type {\n",
              "        vertical-align: middle;\n",
              "    }\n",
              "\n",
              "    .dataframe tbody tr th {\n",
              "        vertical-align: top;\n",
              "    }\n",
              "\n",
              "    .dataframe thead th {\n",
              "        text-align: right;\n",
              "    }\n",
              "</style>\n",
              "<table border=\"1\" class=\"dataframe\">\n",
              "  <thead>\n",
              "    <tr style=\"text-align: right;\">\n",
              "      <th></th>\n",
              "      <th>Unnamed: 0</th>\n",
              "      <th>Price</th>\n",
              "      <th>Area</th>\n",
              "      <th>Location</th>\n",
              "      <th>No. of Bedrooms</th>\n",
              "      <th>New/Resale</th>\n",
              "      <th>Gymnasium</th>\n",
              "      <th>Lift Available</th>\n",
              "      <th>Car Parking</th>\n",
              "      <th>Maintenance Staff</th>\n",
              "      <th>24x7 Security</th>\n",
              "      <th>Children's Play Area</th>\n",
              "      <th>Clubhouse</th>\n",
              "      <th>Intercom</th>\n",
              "      <th>Landscaped Gardens</th>\n",
              "      <th>Indoor Games</th>\n",
              "      <th>Gas Connection</th>\n",
              "      <th>Jogging Track</th>\n",
              "      <th>Swimming Pool</th>\n",
              "    </tr>\n",
              "  </thead>\n",
              "  <tbody>\n",
              "    <tr>\n",
              "      <th>0</th>\n",
              "      <td>0</td>\n",
              "      <td>4850000</td>\n",
              "      <td>720</td>\n",
              "      <td>Kharghar</td>\n",
              "      <td>1</td>\n",
              "      <td>0</td>\n",
              "      <td>0</td>\n",
              "      <td>1</td>\n",
              "      <td>1</td>\n",
              "      <td>1</td>\n",
              "      <td>1</td>\n",
              "      <td>0</td>\n",
              "      <td>0</td>\n",
              "      <td>0</td>\n",
              "      <td>0</td>\n",
              "      <td>0</td>\n",
              "      <td>0</td>\n",
              "      <td>0</td>\n",
              "      <td>0</td>\n",
              "    </tr>\n",
              "    <tr>\n",
              "      <th>1</th>\n",
              "      <td>1</td>\n",
              "      <td>4500000</td>\n",
              "      <td>600</td>\n",
              "      <td>Kharghar</td>\n",
              "      <td>1</td>\n",
              "      <td>0</td>\n",
              "      <td>1</td>\n",
              "      <td>1</td>\n",
              "      <td>1</td>\n",
              "      <td>1</td>\n",
              "      <td>1</td>\n",
              "      <td>0</td>\n",
              "      <td>1</td>\n",
              "      <td>0</td>\n",
              "      <td>0</td>\n",
              "      <td>0</td>\n",
              "      <td>0</td>\n",
              "      <td>1</td>\n",
              "      <td>1</td>\n",
              "    </tr>\n",
              "    <tr>\n",
              "      <th>2</th>\n",
              "      <td>2</td>\n",
              "      <td>6700000</td>\n",
              "      <td>650</td>\n",
              "      <td>Kharghar</td>\n",
              "      <td>1</td>\n",
              "      <td>0</td>\n",
              "      <td>1</td>\n",
              "      <td>1</td>\n",
              "      <td>1</td>\n",
              "      <td>1</td>\n",
              "      <td>1</td>\n",
              "      <td>1</td>\n",
              "      <td>1</td>\n",
              "      <td>1</td>\n",
              "      <td>0</td>\n",
              "      <td>0</td>\n",
              "      <td>0</td>\n",
              "      <td>1</td>\n",
              "      <td>1</td>\n",
              "    </tr>\n",
              "    <tr>\n",
              "      <th>3</th>\n",
              "      <td>3</td>\n",
              "      <td>4500000</td>\n",
              "      <td>650</td>\n",
              "      <td>Kharghar</td>\n",
              "      <td>1</td>\n",
              "      <td>0</td>\n",
              "      <td>0</td>\n",
              "      <td>1</td>\n",
              "      <td>1</td>\n",
              "      <td>1</td>\n",
              "      <td>1</td>\n",
              "      <td>0</td>\n",
              "      <td>0</td>\n",
              "      <td>1</td>\n",
              "      <td>1</td>\n",
              "      <td>0</td>\n",
              "      <td>0</td>\n",
              "      <td>0</td>\n",
              "      <td>0</td>\n",
              "    </tr>\n",
              "    <tr>\n",
              "      <th>4</th>\n",
              "      <td>4</td>\n",
              "      <td>5000000</td>\n",
              "      <td>665</td>\n",
              "      <td>Kharghar</td>\n",
              "      <td>1</td>\n",
              "      <td>0</td>\n",
              "      <td>0</td>\n",
              "      <td>1</td>\n",
              "      <td>1</td>\n",
              "      <td>1</td>\n",
              "      <td>1</td>\n",
              "      <td>0</td>\n",
              "      <td>0</td>\n",
              "      <td>1</td>\n",
              "      <td>1</td>\n",
              "      <td>0</td>\n",
              "      <td>0</td>\n",
              "      <td>0</td>\n",
              "      <td>0</td>\n",
              "    </tr>\n",
              "  </tbody>\n",
              "</table>\n",
              "</div>"
            ],
            "text/plain": [
              "   Unnamed: 0    Price  Area  Location  No. of Bedrooms  New/Resale  \\\n",
              "0           0  4850000   720  Kharghar                1           0   \n",
              "1           1  4500000   600  Kharghar                1           0   \n",
              "2           2  6700000   650  Kharghar                1           0   \n",
              "3           3  4500000   650  Kharghar                1           0   \n",
              "4           4  5000000   665  Kharghar                1           0   \n",
              "\n",
              "   Gymnasium  Lift Available  Car Parking  Maintenance Staff  24x7 Security  \\\n",
              "0          0               1            1                  1              1   \n",
              "1          1               1            1                  1              1   \n",
              "2          1               1            1                  1              1   \n",
              "3          0               1            1                  1              1   \n",
              "4          0               1            1                  1              1   \n",
              "\n",
              "   Children's Play Area  Clubhouse  Intercom  Landscaped Gardens  \\\n",
              "0                     0          0         0                   0   \n",
              "1                     0          1         0                   0   \n",
              "2                     1          1         1                   0   \n",
              "3                     0          0         1                   1   \n",
              "4                     0          0         1                   1   \n",
              "\n",
              "   Indoor Games  Gas Connection  Jogging Track  Swimming Pool  \n",
              "0             0               0              0              0  \n",
              "1             0               0              1              1  \n",
              "2             0               0              1              1  \n",
              "3             0               0              0              0  \n",
              "4             0               0              0              0  "
            ]
          },
          "execution_count": 2,
          "metadata": {},
          "output_type": "execute_result"
        }
      ],
      "source": [
        "df1 = pd.read_csv(\"Mumbai1.csv\")\n",
        "df1.head()"
      ]
    },
    {
      "cell_type": "code",
      "execution_count": 3,
      "metadata": {
        "colab": {
          "base_uri": "https://localhost:8080/"
        },
        "id": "P5ymSDGYOLY_",
        "outputId": "fea47cc3-b5d6-4f09-db62-3094a2a10abd"
      },
      "outputs": [
        {
          "data": {
            "text/plain": [
              "(6347, 19)"
            ]
          },
          "execution_count": 3,
          "metadata": {},
          "output_type": "execute_result"
        }
      ],
      "source": [
        "df1.shape"
      ]
    },
    {
      "cell_type": "code",
      "execution_count": 4,
      "metadata": {
        "colab": {
          "base_uri": "https://localhost:8080/"
        },
        "id": "vdYXgqVLQC7j",
        "outputId": "e1fa108c-6647-445d-f65c-28833040802b"
      },
      "outputs": [
        {
          "data": {
            "text/plain": [
              "Area\n",
              "200     2\n",
              "216     1\n",
              "220     3\n",
              "225     6\n",
              "239     1\n",
              "       ..\n",
              "6381    1\n",
              "6900    1\n",
              "7000    1\n",
              "7600    1\n",
              "8511    1\n",
              "Name: Area, Length: 1140, dtype: int64"
            ]
          },
          "execution_count": 4,
          "metadata": {},
          "output_type": "execute_result"
        }
      ],
      "source": [
        "df1.groupby('Area')['Area'].agg('count')"
      ]
    },
    {
      "cell_type": "code",
      "execution_count": 5,
      "metadata": {
        "colab": {
          "base_uri": "https://localhost:8080/",
          "height": 268
        },
        "id": "j1GXryJeOPmf",
        "outputId": "9e796fa0-d16b-4a3f-bfb1-b099549e38c2"
      },
      "outputs": [
        {
          "data": {
            "text/html": [
              "<div>\n",
              "<style scoped>\n",
              "    .dataframe tbody tr th:only-of-type {\n",
              "        vertical-align: middle;\n",
              "    }\n",
              "\n",
              "    .dataframe tbody tr th {\n",
              "        vertical-align: top;\n",
              "    }\n",
              "\n",
              "    .dataframe thead th {\n",
              "        text-align: right;\n",
              "    }\n",
              "</style>\n",
              "<table border=\"1\" class=\"dataframe\">\n",
              "  <thead>\n",
              "    <tr style=\"text-align: right;\">\n",
              "      <th></th>\n",
              "      <th>Unnamed: 0</th>\n",
              "      <th>Price</th>\n",
              "      <th>Area</th>\n",
              "      <th>Location</th>\n",
              "      <th>No. of Bedrooms</th>\n",
              "      <th>Gymnasium</th>\n",
              "      <th>Lift Available</th>\n",
              "      <th>Car Parking</th>\n",
              "      <th>Maintenance Staff</th>\n",
              "      <th>24x7 Security</th>\n",
              "      <th>Children's Play Area</th>\n",
              "      <th>Clubhouse</th>\n",
              "      <th>Intercom</th>\n",
              "    </tr>\n",
              "  </thead>\n",
              "  <tbody>\n",
              "    <tr>\n",
              "      <th>0</th>\n",
              "      <td>0</td>\n",
              "      <td>4850000</td>\n",
              "      <td>720</td>\n",
              "      <td>Kharghar</td>\n",
              "      <td>1</td>\n",
              "      <td>0</td>\n",
              "      <td>1</td>\n",
              "      <td>1</td>\n",
              "      <td>1</td>\n",
              "      <td>1</td>\n",
              "      <td>0</td>\n",
              "      <td>0</td>\n",
              "      <td>0</td>\n",
              "    </tr>\n",
              "    <tr>\n",
              "      <th>1</th>\n",
              "      <td>1</td>\n",
              "      <td>4500000</td>\n",
              "      <td>600</td>\n",
              "      <td>Kharghar</td>\n",
              "      <td>1</td>\n",
              "      <td>1</td>\n",
              "      <td>1</td>\n",
              "      <td>1</td>\n",
              "      <td>1</td>\n",
              "      <td>1</td>\n",
              "      <td>0</td>\n",
              "      <td>1</td>\n",
              "      <td>0</td>\n",
              "    </tr>\n",
              "    <tr>\n",
              "      <th>2</th>\n",
              "      <td>2</td>\n",
              "      <td>6700000</td>\n",
              "      <td>650</td>\n",
              "      <td>Kharghar</td>\n",
              "      <td>1</td>\n",
              "      <td>1</td>\n",
              "      <td>1</td>\n",
              "      <td>1</td>\n",
              "      <td>1</td>\n",
              "      <td>1</td>\n",
              "      <td>1</td>\n",
              "      <td>1</td>\n",
              "      <td>1</td>\n",
              "    </tr>\n",
              "    <tr>\n",
              "      <th>3</th>\n",
              "      <td>3</td>\n",
              "      <td>4500000</td>\n",
              "      <td>650</td>\n",
              "      <td>Kharghar</td>\n",
              "      <td>1</td>\n",
              "      <td>0</td>\n",
              "      <td>1</td>\n",
              "      <td>1</td>\n",
              "      <td>1</td>\n",
              "      <td>1</td>\n",
              "      <td>0</td>\n",
              "      <td>0</td>\n",
              "      <td>1</td>\n",
              "    </tr>\n",
              "    <tr>\n",
              "      <th>4</th>\n",
              "      <td>4</td>\n",
              "      <td>5000000</td>\n",
              "      <td>665</td>\n",
              "      <td>Kharghar</td>\n",
              "      <td>1</td>\n",
              "      <td>0</td>\n",
              "      <td>1</td>\n",
              "      <td>1</td>\n",
              "      <td>1</td>\n",
              "      <td>1</td>\n",
              "      <td>0</td>\n",
              "      <td>0</td>\n",
              "      <td>1</td>\n",
              "    </tr>\n",
              "  </tbody>\n",
              "</table>\n",
              "</div>"
            ],
            "text/plain": [
              "   Unnamed: 0    Price  Area  Location  No. of Bedrooms  Gymnasium  \\\n",
              "0           0  4850000   720  Kharghar                1          0   \n",
              "1           1  4500000   600  Kharghar                1          1   \n",
              "2           2  6700000   650  Kharghar                1          1   \n",
              "3           3  4500000   650  Kharghar                1          0   \n",
              "4           4  5000000   665  Kharghar                1          0   \n",
              "\n",
              "   Lift Available  Car Parking  Maintenance Staff  24x7 Security  \\\n",
              "0               1            1                  1              1   \n",
              "1               1            1                  1              1   \n",
              "2               1            1                  1              1   \n",
              "3               1            1                  1              1   \n",
              "4               1            1                  1              1   \n",
              "\n",
              "   Children's Play Area  Clubhouse  Intercom  \n",
              "0                     0          0         0  \n",
              "1                     0          1         0  \n",
              "2                     1          1         1  \n",
              "3                     0          0         1  \n",
              "4                     0          0         1  "
            ]
          },
          "execution_count": 5,
          "metadata": {},
          "output_type": "execute_result"
        }
      ],
      "source": [
        "df2 = df1.drop(['Landscaped Gardens','Jogging Track','Swimming Pool','Indoor Games','New/Resale','Gas Connection'],axis='columns')\n",
        "df2.head()"
      ]
    },
    {
      "cell_type": "code",
      "execution_count": 6,
      "metadata": {
        "id": "bPBt6nF0Pspm"
      },
      "outputs": [],
      "source": [
        "df2.drop(columns=df2.columns[0], \n",
        "        axis=1, \n",
        "        inplace=True)"
      ]
    },
    {
      "cell_type": "code",
      "execution_count": 7,
      "metadata": {
        "colab": {
          "base_uri": "https://localhost:8080/",
          "height": 250
        },
        "id": "XgjJmQmUToxU",
        "outputId": "4dcfed11-bfca-4b86-f80f-426960b90ccf"
      },
      "outputs": [
        {
          "data": {
            "text/html": [
              "<div>\n",
              "<style scoped>\n",
              "    .dataframe tbody tr th:only-of-type {\n",
              "        vertical-align: middle;\n",
              "    }\n",
              "\n",
              "    .dataframe tbody tr th {\n",
              "        vertical-align: top;\n",
              "    }\n",
              "\n",
              "    .dataframe thead th {\n",
              "        text-align: right;\n",
              "    }\n",
              "</style>\n",
              "<table border=\"1\" class=\"dataframe\">\n",
              "  <thead>\n",
              "    <tr style=\"text-align: right;\">\n",
              "      <th></th>\n",
              "      <th>Price</th>\n",
              "      <th>Area</th>\n",
              "      <th>Location</th>\n",
              "      <th>No. of Bedrooms</th>\n",
              "      <th>Gymnasium</th>\n",
              "      <th>Lift Available</th>\n",
              "      <th>Car Parking</th>\n",
              "      <th>Maintenance Staff</th>\n",
              "      <th>24x7 Security</th>\n",
              "      <th>Children's Play Area</th>\n",
              "      <th>Clubhouse</th>\n",
              "      <th>Intercom</th>\n",
              "    </tr>\n",
              "  </thead>\n",
              "  <tbody>\n",
              "    <tr>\n",
              "      <th>0</th>\n",
              "      <td>4850000</td>\n",
              "      <td>720</td>\n",
              "      <td>Kharghar</td>\n",
              "      <td>1</td>\n",
              "      <td>0</td>\n",
              "      <td>1</td>\n",
              "      <td>1</td>\n",
              "      <td>1</td>\n",
              "      <td>1</td>\n",
              "      <td>0</td>\n",
              "      <td>0</td>\n",
              "      <td>0</td>\n",
              "    </tr>\n",
              "    <tr>\n",
              "      <th>1</th>\n",
              "      <td>4500000</td>\n",
              "      <td>600</td>\n",
              "      <td>Kharghar</td>\n",
              "      <td>1</td>\n",
              "      <td>1</td>\n",
              "      <td>1</td>\n",
              "      <td>1</td>\n",
              "      <td>1</td>\n",
              "      <td>1</td>\n",
              "      <td>0</td>\n",
              "      <td>1</td>\n",
              "      <td>0</td>\n",
              "    </tr>\n",
              "    <tr>\n",
              "      <th>2</th>\n",
              "      <td>6700000</td>\n",
              "      <td>650</td>\n",
              "      <td>Kharghar</td>\n",
              "      <td>1</td>\n",
              "      <td>1</td>\n",
              "      <td>1</td>\n",
              "      <td>1</td>\n",
              "      <td>1</td>\n",
              "      <td>1</td>\n",
              "      <td>1</td>\n",
              "      <td>1</td>\n",
              "      <td>1</td>\n",
              "    </tr>\n",
              "    <tr>\n",
              "      <th>3</th>\n",
              "      <td>4500000</td>\n",
              "      <td>650</td>\n",
              "      <td>Kharghar</td>\n",
              "      <td>1</td>\n",
              "      <td>0</td>\n",
              "      <td>1</td>\n",
              "      <td>1</td>\n",
              "      <td>1</td>\n",
              "      <td>1</td>\n",
              "      <td>0</td>\n",
              "      <td>0</td>\n",
              "      <td>1</td>\n",
              "    </tr>\n",
              "    <tr>\n",
              "      <th>4</th>\n",
              "      <td>5000000</td>\n",
              "      <td>665</td>\n",
              "      <td>Kharghar</td>\n",
              "      <td>1</td>\n",
              "      <td>0</td>\n",
              "      <td>1</td>\n",
              "      <td>1</td>\n",
              "      <td>1</td>\n",
              "      <td>1</td>\n",
              "      <td>0</td>\n",
              "      <td>0</td>\n",
              "      <td>1</td>\n",
              "    </tr>\n",
              "  </tbody>\n",
              "</table>\n",
              "</div>"
            ],
            "text/plain": [
              "     Price  Area  Location  No. of Bedrooms  Gymnasium  Lift Available  \\\n",
              "0  4850000   720  Kharghar                1          0               1   \n",
              "1  4500000   600  Kharghar                1          1               1   \n",
              "2  6700000   650  Kharghar                1          1               1   \n",
              "3  4500000   650  Kharghar                1          0               1   \n",
              "4  5000000   665  Kharghar                1          0               1   \n",
              "\n",
              "   Car Parking  Maintenance Staff  24x7 Security  Children's Play Area  \\\n",
              "0            1                  1              1                     0   \n",
              "1            1                  1              1                     0   \n",
              "2            1                  1              1                     1   \n",
              "3            1                  1              1                     0   \n",
              "4            1                  1              1                     0   \n",
              "\n",
              "   Clubhouse  Intercom  \n",
              "0          0         0  \n",
              "1          1         0  \n",
              "2          1         1  \n",
              "3          0         1  \n",
              "4          0         1  "
            ]
          },
          "execution_count": 7,
          "metadata": {},
          "output_type": "execute_result"
        }
      ],
      "source": [
        "df2.head()"
      ]
    },
    {
      "cell_type": "code",
      "execution_count": 8,
      "metadata": {
        "colab": {
          "base_uri": "https://localhost:8080/"
        },
        "id": "LTyPcbAQQnKU",
        "outputId": "bef22a45-e47d-4006-b120-cf8a3c8ce652"
      },
      "outputs": [
        {
          "data": {
            "text/plain": [
              "Price                   0\n",
              "Area                    0\n",
              "Location                0\n",
              "No. of Bedrooms         0\n",
              "Gymnasium               0\n",
              "Lift Available          0\n",
              "Car Parking             0\n",
              "Maintenance Staff       0\n",
              "24x7 Security           0\n",
              "Children's Play Area    0\n",
              "Clubhouse               0\n",
              "Intercom                0\n",
              "dtype: int64"
            ]
          },
          "execution_count": 8,
          "metadata": {},
          "output_type": "execute_result"
        }
      ],
      "source": [
        "df2.isnull().sum()"
      ]
    },
    {
      "cell_type": "code",
      "execution_count": 9,
      "metadata": {
        "colab": {
          "base_uri": "https://localhost:8080/"
        },
        "id": "IkCBi_dRQxUT",
        "outputId": "7f8d1c50-f009-44be-8d70-ce1b8e017634"
      },
      "outputs": [
        {
          "data": {
            "text/plain": [
              "Price                   0\n",
              "Area                    0\n",
              "Location                0\n",
              "No. of Bedrooms         0\n",
              "Gymnasium               0\n",
              "Lift Available          0\n",
              "Car Parking             0\n",
              "Maintenance Staff       0\n",
              "24x7 Security           0\n",
              "Children's Play Area    0\n",
              "Clubhouse               0\n",
              "Intercom                0\n",
              "dtype: int64"
            ]
          },
          "execution_count": 9,
          "metadata": {},
          "output_type": "execute_result"
        }
      ],
      "source": [
        "df3 = df2.dropna()\n",
        "df3.isnull().sum()"
      ]
    },
    {
      "cell_type": "code",
      "execution_count": 10,
      "metadata": {
        "colab": {
          "base_uri": "https://localhost:8080/"
        },
        "id": "Mu-X3T2wQ_iB",
        "outputId": "e5463b05-f1d6-4eb6-af45-106bca024553"
      },
      "outputs": [
        {
          "data": {
            "text/plain": [
              "(6347, 12)"
            ]
          },
          "execution_count": 10,
          "metadata": {},
          "output_type": "execute_result"
        }
      ],
      "source": [
        "df3.shape"
      ]
    },
    {
      "cell_type": "code",
      "execution_count": 11,
      "metadata": {
        "colab": {
          "base_uri": "https://localhost:8080/"
        },
        "id": "yKVaQzB3REXZ",
        "outputId": "379e6123-7417-4a1a-bbc6-0a62507adde9"
      },
      "outputs": [
        {
          "data": {
            "text/plain": [
              "array([1, 4, 3, 2, 5, 6, 7], dtype=int64)"
            ]
          },
          "execution_count": 11,
          "metadata": {},
          "output_type": "execute_result"
        }
      ],
      "source": [
        "df3['No. of Bedrooms'].unique()"
      ]
    },
    {
      "cell_type": "code",
      "execution_count": 12,
      "metadata": {
        "colab": {
          "base_uri": "https://localhost:8080/"
        },
        "id": "BPurzUzSSbrW",
        "outputId": "985fc6ab-1b7a-46a3-83de-532b6589fdf9"
      },
      "outputs": [
        {
          "data": {
            "text/plain": [
              "array([ 720,  600,  650, ...,  250, 1162,  435], dtype=int64)"
            ]
          },
          "execution_count": 12,
          "metadata": {},
          "output_type": "execute_result"
        }
      ],
      "source": [
        "df3['Area'].unique()"
      ]
    },
    {
      "cell_type": "code",
      "execution_count": 13,
      "metadata": {
        "id": "2yHJ3KUEUJFi"
      },
      "outputs": [],
      "source": [
        "df4 = df3.copy()\n",
        "df4['Price_per_sqft'] = df4['Price']/df4['Area']"
      ]
    },
    {
      "cell_type": "code",
      "execution_count": 14,
      "metadata": {
        "colab": {
          "base_uri": "https://localhost:8080/",
          "height": 268
        },
        "id": "6sC8GzopUjkr",
        "outputId": "3dc4708c-d0ba-49b9-e30c-c6d98bc90013"
      },
      "outputs": [
        {
          "data": {
            "text/html": [
              "<div>\n",
              "<style scoped>\n",
              "    .dataframe tbody tr th:only-of-type {\n",
              "        vertical-align: middle;\n",
              "    }\n",
              "\n",
              "    .dataframe tbody tr th {\n",
              "        vertical-align: top;\n",
              "    }\n",
              "\n",
              "    .dataframe thead th {\n",
              "        text-align: right;\n",
              "    }\n",
              "</style>\n",
              "<table border=\"1\" class=\"dataframe\">\n",
              "  <thead>\n",
              "    <tr style=\"text-align: right;\">\n",
              "      <th></th>\n",
              "      <th>Price</th>\n",
              "      <th>Area</th>\n",
              "      <th>Location</th>\n",
              "      <th>No. of Bedrooms</th>\n",
              "      <th>Gymnasium</th>\n",
              "      <th>Lift Available</th>\n",
              "      <th>Car Parking</th>\n",
              "      <th>Maintenance Staff</th>\n",
              "      <th>24x7 Security</th>\n",
              "      <th>Children's Play Area</th>\n",
              "      <th>Clubhouse</th>\n",
              "      <th>Intercom</th>\n",
              "      <th>Price_per_sqft</th>\n",
              "    </tr>\n",
              "  </thead>\n",
              "  <tbody>\n",
              "    <tr>\n",
              "      <th>0</th>\n",
              "      <td>4850000</td>\n",
              "      <td>720</td>\n",
              "      <td>Kharghar</td>\n",
              "      <td>1</td>\n",
              "      <td>0</td>\n",
              "      <td>1</td>\n",
              "      <td>1</td>\n",
              "      <td>1</td>\n",
              "      <td>1</td>\n",
              "      <td>0</td>\n",
              "      <td>0</td>\n",
              "      <td>0</td>\n",
              "      <td>6736.111111</td>\n",
              "    </tr>\n",
              "    <tr>\n",
              "      <th>1</th>\n",
              "      <td>4500000</td>\n",
              "      <td>600</td>\n",
              "      <td>Kharghar</td>\n",
              "      <td>1</td>\n",
              "      <td>1</td>\n",
              "      <td>1</td>\n",
              "      <td>1</td>\n",
              "      <td>1</td>\n",
              "      <td>1</td>\n",
              "      <td>0</td>\n",
              "      <td>1</td>\n",
              "      <td>0</td>\n",
              "      <td>7500.000000</td>\n",
              "    </tr>\n",
              "    <tr>\n",
              "      <th>2</th>\n",
              "      <td>6700000</td>\n",
              "      <td>650</td>\n",
              "      <td>Kharghar</td>\n",
              "      <td>1</td>\n",
              "      <td>1</td>\n",
              "      <td>1</td>\n",
              "      <td>1</td>\n",
              "      <td>1</td>\n",
              "      <td>1</td>\n",
              "      <td>1</td>\n",
              "      <td>1</td>\n",
              "      <td>1</td>\n",
              "      <td>10307.692308</td>\n",
              "    </tr>\n",
              "    <tr>\n",
              "      <th>3</th>\n",
              "      <td>4500000</td>\n",
              "      <td>650</td>\n",
              "      <td>Kharghar</td>\n",
              "      <td>1</td>\n",
              "      <td>0</td>\n",
              "      <td>1</td>\n",
              "      <td>1</td>\n",
              "      <td>1</td>\n",
              "      <td>1</td>\n",
              "      <td>0</td>\n",
              "      <td>0</td>\n",
              "      <td>1</td>\n",
              "      <td>6923.076923</td>\n",
              "    </tr>\n",
              "    <tr>\n",
              "      <th>4</th>\n",
              "      <td>5000000</td>\n",
              "      <td>665</td>\n",
              "      <td>Kharghar</td>\n",
              "      <td>1</td>\n",
              "      <td>0</td>\n",
              "      <td>1</td>\n",
              "      <td>1</td>\n",
              "      <td>1</td>\n",
              "      <td>1</td>\n",
              "      <td>0</td>\n",
              "      <td>0</td>\n",
              "      <td>1</td>\n",
              "      <td>7518.796992</td>\n",
              "    </tr>\n",
              "  </tbody>\n",
              "</table>\n",
              "</div>"
            ],
            "text/plain": [
              "     Price  Area  Location  No. of Bedrooms  Gymnasium  Lift Available  \\\n",
              "0  4850000   720  Kharghar                1          0               1   \n",
              "1  4500000   600  Kharghar                1          1               1   \n",
              "2  6700000   650  Kharghar                1          1               1   \n",
              "3  4500000   650  Kharghar                1          0               1   \n",
              "4  5000000   665  Kharghar                1          0               1   \n",
              "\n",
              "   Car Parking  Maintenance Staff  24x7 Security  Children's Play Area  \\\n",
              "0            1                  1              1                     0   \n",
              "1            1                  1              1                     0   \n",
              "2            1                  1              1                     1   \n",
              "3            1                  1              1                     0   \n",
              "4            1                  1              1                     0   \n",
              "\n",
              "   Clubhouse  Intercom  Price_per_sqft  \n",
              "0          0         0     6736.111111  \n",
              "1          1         0     7500.000000  \n",
              "2          1         1    10307.692308  \n",
              "3          0         1     6923.076923  \n",
              "4          0         1     7518.796992  "
            ]
          },
          "execution_count": 14,
          "metadata": {},
          "output_type": "execute_result"
        }
      ],
      "source": [
        "df4.head()"
      ]
    },
    {
      "cell_type": "code",
      "execution_count": 15,
      "metadata": {
        "colab": {
          "base_uri": "https://localhost:8080/"
        },
        "id": "ytwkagweUzpb",
        "outputId": "867cf860-87eb-45b1-ede9-2b20a66d26da"
      },
      "outputs": [
        {
          "data": {
            "text/plain": [
              "array(['Kharghar', 'Sector-13 Kharghar', 'Sector 18 Kharghar',\n",
              "       'Sector 20 Kharghar', 'Sector 15 Kharghar', 'Dombivali',\n",
              "       'Churchgate', 'Prabhadevi', 'Jogeshwari West', 'Kalyan East',\n",
              "       'Malad East', 'Virar East', 'Virar', 'Malad West', 'Borivali East',\n",
              "       'Mira Road East', 'Goregaon West', 'Kandivali West',\n",
              "       'Borivali West', 'Kandivali East', 'Andheri East', 'Goregaon East',\n",
              "       'Wadala', 'Ulwe', 'Dahisar', 'kandivali', 'Goregaon',\n",
              "       'Bhandup West', 'thakur village kandivali east', 'Santacruz West',\n",
              "       'Kanjurmarg', 'I C Colony', 'Dahisar W', 'Marol', 'Parel',\n",
              "       'Lower Parel', 'Worli', 'Jogeshwari East', 'Chembur Shell Colony',\n",
              "       'Central Avenue', 'Chembur East', 'Diamond Market Road', 'Mulund',\n",
              "       'Nalasopara West', 'raheja vihar', 'Powai Lake', 'MHADA Colony 20',\n",
              "       'Tolaram Colony', 'Taloja', 'Thane West', 'Vangani',\n",
              "       'Sector 5 Ulwe', 'Sector12 New Panvel', 'Sector 17 Ulwe',\n",
              "       'Sector9 Kamothe', 'Sector 19 Kharghar', 'Navi Basti',\n",
              "       'Sector12 Kamothe', 'Sector 21 Kamothe', 'Rutu Enclave',\n",
              "       'taloja panchanand', 'Virar West', 'Chembur', 'Sector 20 Kamothe',\n",
              "       'Sector 22 Kamothe', 'Sector 18 Kamothe', 'Sector-5 Kamothe',\n",
              "       'Sector-6A Kamothe', 'Sector 11 Kamothe', 'Sector-18 Ulwe',\n",
              "       'Sector-12 Kamothe', 'azad nagar', 'Sindhi Society Chembur',\n",
              "       'Kurla', 'Sahkar Nagar', 'Deonar', 'Thane', 'Jankalyan Nagar',\n",
              "       'Badlapur', 'Ambarnath', 'Ambernath West', 'Vakola', 'Kamothe',\n",
              "       'Kamothe Sector 16', 'Almeida Park', 'Khar', 'Bandra West',\n",
              "       'Pali Hill', '15th Road', 'Palghar', 'Sector13 Kharghar',\n",
              "       'Sector 21 Kharghar', 'Sector 12 Kharghar', 'Vivek Vidyalaya Marg',\n",
              "       'Vasai east', 'Nahur', 'Badlapur West', 'Panvel', 'Kalyan',\n",
              "       'Badlapur East', 'Mira Bhayandar', 'Juhu', 'Naigaon East',\n",
              "       'Sector 21 Ulwe', 'Bandra East', 'Dronagiri', 'Nerul', 'Karanjade',\n",
              "       'Sanpada', 'Sector-8 Ulwe', 'Sector-3 Ulwe', 'Sector 23 Ulwe',\n",
              "       'ULWE SECTOR 19', 'Ghodbunder Road', 'Bhiwandi', 'Vasai',\n",
              "       'Nala Sopara', 'Dadar East', 'Ghatkopar', 'Breach Candy',\n",
              "       'Worli South Mumbai', 'Asangaon', 'Koparkhairane Station Road',\n",
              "       'Kopar Khairane Sector 19A', 'Koper Khairane',\n",
              "       'Eastern Express Highway Vikhroli', 'Magathane', 'Rawal Pada',\n",
              "       'Ambernath East', 'Dokali Pada', 'Dattapada', 'Rajendra Nagar',\n",
              "       'Kulupwadi', 'Samata Nagar Thakur Village', 'Mira Road and Beyond',\n",
              "       'West Amardeep Colony', 'Pant Nagar', 'mumbai', 'Four Bungalows',\n",
              "       'no 9', 'kolshet', 'Hiranandani Meadows', 'Kalpataru', 'Petali',\n",
              "       'Kharghar Sector 34C', 'Ghatkopar East',\n",
              "       'Mumbai Agra National Highway', 'vasant vihar thane west',\n",
              "       'Kalyan West', 'Shirgaon', 'Pokhran 2', 'juhu tara', 'Peddar Road',\n",
              "       'Palm Beach', 'Sector 10', 'Sector 19 Kamothe', 'Tilak Nagar',\n",
              "       'Ghatkopar West', 'Tardeo', 'Napeansea Road', 'Mahalaxmi',\n",
              "       'Dahisar West', 'Mulund West', 'Natakwala Lane', 'Link Road',\n",
              "       'Devidas Cross Lane', 'Soniwadi Road', 'Haridas Nagar', 'Shimpoli',\n",
              "       'TPS Road', 'Off Shimpoli road', 'Rustomjee Global City',\n",
              "       'Sunil Nagar', 'Sector 30 Kharghar', 'Sector 12 A', 'Sector 18',\n",
              "       'Sector13 Khanda Colony', 'Sector16 Airoli', 'Ranjanpada',\n",
              "       'Sector 15', 'Sector 35G', 'Sector 5', 'Sector 35I Kharghar',\n",
              "       'Sector35D Kharghar', 'Sector34 A Kharghar', 'Sector 30',\n",
              "       'Sector 36 Kharghar', 'Sector 11 Belapur', 'Sector-34B Kharghar',\n",
              "       'Dombivali East', 'Roadpali', 'Sector-50 Seawoods',\n",
              "       'Mumbai Highway', 'Sector 7 Kharghar', 'Lokhandwala Township',\n",
              "       'Andheri', 'Andheri West', 'Shastri Nagar', 'Wadala East Wadala',\n",
              "       'Kalwa', 'PARSIK NAGAR', 'Maharashtra Nagar', 'Patlipada',\n",
              "       'Belapur', 'Seawoods', 'Majiwada', '4 Bunglows', 'Airoli',\n",
              "       'Kolshet Road', 'Sector 10 Khanda Colony', 'Pokharan Road',\n",
              "       'Kharegaon', 'Panch Pakhadi', 'Sector 36 Kamothe',\n",
              "       'Dombivli (West)', 'DN Nagar Road', 'Godrej Hill', 'Ganesh Nagar',\n",
              "       'Haware City', 'Mahatma Gandhi Road', 'Akurli Nagar',\n",
              "       'Kasar vadavali', 'Vasai West', 'Mumbai Nashik Expressway',\n",
              "       'Katrap', 'Mira Road', 'Kasheli',\n",
              "       'Western Express Highway Kandivali East', 'Vasind', 'KASHELI',\n",
              "       'Thakurli', 'Shakti Nagar', 'Bhayandar East', 'Dahisar East',\n",
              "       'ulhasnagar 4', 'Sector-26 Taloja', 'Koproli', 'Mumbai Central',\n",
              "       'Greater Khanda', 'link road borivali west', 'Manpada',\n",
              "       'Sector 2 Ulwe', 'Govind nagar', 'Krishanlal Marwah Marg',\n",
              "       'Sector-9 Ulwe', 'Vikhroli', 'Kalamboli', 'Lokhandwala',\n",
              "       'Patel Nagar', 'Yari Road', 'Thakur complex', 'Khar West',\n",
              "       'Sector 11 Kharghar', 'Ghansoli', 'Sector8 Sanpada',\n",
              "       'Jeejamata Nagar', 'Pandurangwadi', 'Shreyas Colony',\n",
              "       'Kannamwar Nagar II', 'gokuldham', 'Bangur Nagar',\n",
              "       'Shivaji Colony', 'Jawahar Nagar', 'Vedant Complex', 'Titwala',\n",
              "       'Manvel pada Road', 'Govandi', 'Shilphata Road Thane',\n",
              "       'Vasant Vihar', 'Thakur Village', 'Samata nagar', 'Wadi Bandar',\n",
              "       'Kapurbawadi', 'Thane Belapur Road Kalwa', 'Suburbs Mumbai',\n",
              "       'Ramdev Park', 'Sector-35 Kamothe',\n",
              "       'Sector 58A Seawoods Navi Mumbai', 'Diva', 'Borivali',\n",
              "       'Gundavali Gaothan', 'Kondivita Road', 'Koldongri', 'Saki Naka',\n",
              "       'Bhayandar West', 'Versova', 'Hanuman Nagar', 'worli sea face ',\n",
              "       'Sea Face', 'Shiv Sagar Estate', 'Grant Road West', 'Sriprastha',\n",
              "       'Off Nepean Sea Road', 'Morya Nagar', 'Upper Worli',\n",
              "       'worli sea Fase', 'Powai', 'Agripada', 'Sion', 'Girgaon',\n",
              "       'IT Colony', 'Bhayandarpada', 'Sector-24 Kamothe', 'Phase 2',\n",
              "       'Sector 6', 'Malad', 'Haji Ali', 'Majiwada thane', 'Yogi Hills',\n",
              "       'Sector 19 Nerul', 'Owale', 'MG Road', 'roadpali navimumbai',\n",
              "       'Taloja Bypass Nitalas Link Road', 'Rasayani', 'Sector 10 Kamothe',\n",
              "       'kavesar', 'Kopara', 'royal palms goregaon east', 'Dadar West',\n",
              "       'vrindavan society', 'CBD Belapur East', 'Parel Village',\n",
              "       'Karave Nagar', 'Sector 19A Nerul', 'Antop Hill', 'Suman Nagar',\n",
              "       'Bhakti Park', 'Hanuman Chowk', 'Willingdon', 'VishnuNagar',\n",
              "       'Vichumbe', 'Vashi', 'Poonam Sagar Complex', 'Santacruz East',\n",
              "       'Mulund East', 'Sector-8 Sanpada', 'Sector-9 Ghansoli', 'Balkum',\n",
              "       'Hiranandani Estates', 'Vartak Nagar', 'Charkop', 'dhanukarwadi',\n",
              "       'Vazira', 'Four Bunglows', 'Palava',\n",
              "       'Oshiwara Police Station Road', 'Seven Bunglow', 'Poddar Road',\n",
              "       'Gulmohar Road', 'Vile Parle E', 'Pokhran Road No 2',\n",
              "       'Sainath Nagar', 'Kapur Bawdi', 'Manpada near Tiku ji ni wadi',\n",
              "       'Kolshet Industrial Area', 'Sector16 Ulwe',\n",
              "       'Anand Nagar Thane West', 'Charkop Sector 8', 'Vile Parle',\n",
              "       'Marine Lines', 'Bandra Kurla Complex', 'sec 50 new',\n",
              "       'Vakola Pipeline Road', 'Neral', 'Shil Phata', 'Ville Parle East',\n",
              "       'matunga east', 'Dharavi', 'vile parle west', 'Anjurdive', 'Uran',\n",
              "       'Boisar', 'Kanjurmarg East', 'Kurla West', 'Sewri', 'Matunga',\n",
              "       'Goregaon (East)', 'Malabar Hill', 'Ambivali', 'Nalasopara East',\n",
              "       'Vijay Nagar', 'Chedda Nagar', 'Kurla East', 'Kharodi',\n",
              "       'Ville Parle West', 'Vikhroli West', 'Wadala East', 'Palidevad',\n",
              "       'Vikroli East', 'Mahim', 'Khalapur', 'Karjat', 'Vitthalwadi',\n",
              "       'Bhoiwada Kalyan', 'Beturkar Pada', 'Ambivli', 'Nilje Gaon',\n",
              "       'Khopoli', 'Taloje', 'Gulal Wadi', 'Tilak Nagar Mumbai',\n",
              "       'Chandivali', 'Nere', 'Kewale', 'Sector 9 Airoli', 'Diva Gaon',\n",
              "       'Sen Nagar', 'Adaigaon', 'Syndicate', 'Gandhar Nagar', 'Byculla',\n",
              "       'Padle Gaon'], dtype=object)"
            ]
          },
          "execution_count": 15,
          "metadata": {},
          "output_type": "execute_result"
        }
      ],
      "source": [
        "df4['Location'].unique()\n"
      ]
    },
    {
      "cell_type": "code",
      "execution_count": 16,
      "metadata": {
        "colab": {
          "base_uri": "https://localhost:8080/"
        },
        "id": "ZHJFfpxlVGPX",
        "outputId": "1e5ca6b2-8439-49c0-c881-76c3fce7e036"
      },
      "outputs": [
        {
          "data": {
            "text/plain": [
              "413"
            ]
          },
          "execution_count": 16,
          "metadata": {},
          "output_type": "execute_result"
        }
      ],
      "source": [
        "len(df4.Location.unique())"
      ]
    },
    {
      "cell_type": "code",
      "execution_count": 17,
      "metadata": {
        "colab": {
          "base_uri": "https://localhost:8080/"
        },
        "id": "NV31d72nVxkM",
        "outputId": "bf22107e-6518-44a1-8382-233839f678e0"
      },
      "outputs": [
        {
          "name": "stdout",
          "output_type": "stream",
          "text": [
            "Location\n",
            "Kharghar                533\n",
            "Thane West              418\n",
            "Mira Road East          390\n",
            "Ulwe                    319\n",
            "Borivali West           176\n",
            "                       ... \n",
            "Pokhran Road No 2         1\n",
            "Poonam Sagar Complex      1\n",
            "Ramdev Park               1\n",
            "Ranjanpada                1\n",
            "worli sea face            1\n",
            "Name: Location, Length: 413, dtype: int64\n"
          ]
        }
      ],
      "source": [
        "df4.Location = df4.Location.apply(lambda x: x.strip())\n",
        "location_stats = df4.groupby('Location')['Location'].agg('count').sort_values(ascending=False)\n",
        "print(location_stats)"
      ]
    },
    {
      "cell_type": "code",
      "execution_count": 18,
      "metadata": {
        "colab": {
          "base_uri": "https://localhost:8080/"
        },
        "id": "0xVMwfXtWbST",
        "outputId": "e2aa8129-5bb0-46f4-e174-05414ead5c57"
      },
      "outputs": [
        {
          "data": {
            "text/plain": [
              "284"
            ]
          },
          "execution_count": 18,
          "metadata": {},
          "output_type": "execute_result"
        }
      ],
      "source": [
        "len(location_stats[location_stats<=5])"
      ]
    },
    {
      "cell_type": "code",
      "execution_count": 19,
      "metadata": {
        "colab": {
          "base_uri": "https://localhost:8080/"
        },
        "id": "2k8087zKW7Vp",
        "outputId": "627e3176-7406-47b9-c302-c1a108c85997"
      },
      "outputs": [
        {
          "name": "stdout",
          "output_type": "stream",
          "text": [
            "Location\n",
            "Mumbai Highway          5\n",
            "CBD Belapur East        5\n",
            "Central Avenue          5\n",
            "Tardeo                  5\n",
            "Majiwada thane          5\n",
            "                       ..\n",
            "Pokhran Road No 2       1\n",
            "Poonam Sagar Complex    1\n",
            "Ramdev Park             1\n",
            "Ranjanpada              1\n",
            "worli sea face          1\n",
            "Name: Location, Length: 284, dtype: int64\n"
          ]
        }
      ],
      "source": [
        "locations_Under_5 = location_stats[location_stats<=5]\n",
        "print(locations_Under_5)"
      ]
    },
    {
      "cell_type": "code",
      "execution_count": 20,
      "metadata": {
        "colab": {
          "base_uri": "https://localhost:8080/"
        },
        "id": "LRaq19shX32B",
        "outputId": "a4d59b21-e008-452e-be28-9155035dd08b"
      },
      "outputs": [
        {
          "data": {
            "text/plain": [
              "130"
            ]
          },
          "execution_count": 20,
          "metadata": {},
          "output_type": "execute_result"
        }
      ],
      "source": [
        "df4.Location = df4.Location.apply(lambda x:'other' if x in locations_Under_5 else x)\n",
        "len(df4.Location.unique())"
      ]
    },
    {
      "cell_type": "code",
      "execution_count": 21,
      "metadata": {
        "colab": {
          "base_uri": "https://localhost:8080/",
          "height": 206
        },
        "id": "EiHWZptIZG5t",
        "outputId": "4d7599e7-bfd2-4efa-8320-e28b66192836"
      },
      "outputs": [
        {
          "data": {
            "text/html": [
              "<div>\n",
              "<style scoped>\n",
              "    .dataframe tbody tr th:only-of-type {\n",
              "        vertical-align: middle;\n",
              "    }\n",
              "\n",
              "    .dataframe tbody tr th {\n",
              "        vertical-align: top;\n",
              "    }\n",
              "\n",
              "    .dataframe thead th {\n",
              "        text-align: right;\n",
              "    }\n",
              "</style>\n",
              "<table border=\"1\" class=\"dataframe\">\n",
              "  <thead>\n",
              "    <tr style=\"text-align: right;\">\n",
              "      <th></th>\n",
              "      <th>Price</th>\n",
              "      <th>Area</th>\n",
              "      <th>Location</th>\n",
              "      <th>bhk</th>\n",
              "      <th>Gymnasium</th>\n",
              "      <th>Lift</th>\n",
              "      <th>Car</th>\n",
              "      <th>Maintenance Staff</th>\n",
              "      <th>Security</th>\n",
              "      <th>Children's Play Area</th>\n",
              "      <th>Clubhouse</th>\n",
              "      <th>Intercom</th>\n",
              "      <th>Price_per_sqft</th>\n",
              "    </tr>\n",
              "  </thead>\n",
              "  <tbody>\n",
              "    <tr>\n",
              "      <th>0</th>\n",
              "      <td>4850000</td>\n",
              "      <td>720</td>\n",
              "      <td>Kharghar</td>\n",
              "      <td>1</td>\n",
              "      <td>0</td>\n",
              "      <td>1</td>\n",
              "      <td>1</td>\n",
              "      <td>1</td>\n",
              "      <td>1</td>\n",
              "      <td>0</td>\n",
              "      <td>0</td>\n",
              "      <td>0</td>\n",
              "      <td>6736.111111</td>\n",
              "    </tr>\n",
              "    <tr>\n",
              "      <th>1</th>\n",
              "      <td>4500000</td>\n",
              "      <td>600</td>\n",
              "      <td>Kharghar</td>\n",
              "      <td>1</td>\n",
              "      <td>1</td>\n",
              "      <td>1</td>\n",
              "      <td>1</td>\n",
              "      <td>1</td>\n",
              "      <td>1</td>\n",
              "      <td>0</td>\n",
              "      <td>1</td>\n",
              "      <td>0</td>\n",
              "      <td>7500.000000</td>\n",
              "    </tr>\n",
              "    <tr>\n",
              "      <th>2</th>\n",
              "      <td>6700000</td>\n",
              "      <td>650</td>\n",
              "      <td>Kharghar</td>\n",
              "      <td>1</td>\n",
              "      <td>1</td>\n",
              "      <td>1</td>\n",
              "      <td>1</td>\n",
              "      <td>1</td>\n",
              "      <td>1</td>\n",
              "      <td>1</td>\n",
              "      <td>1</td>\n",
              "      <td>1</td>\n",
              "      <td>10307.692308</td>\n",
              "    </tr>\n",
              "    <tr>\n",
              "      <th>3</th>\n",
              "      <td>4500000</td>\n",
              "      <td>650</td>\n",
              "      <td>Kharghar</td>\n",
              "      <td>1</td>\n",
              "      <td>0</td>\n",
              "      <td>1</td>\n",
              "      <td>1</td>\n",
              "      <td>1</td>\n",
              "      <td>1</td>\n",
              "      <td>0</td>\n",
              "      <td>0</td>\n",
              "      <td>1</td>\n",
              "      <td>6923.076923</td>\n",
              "    </tr>\n",
              "    <tr>\n",
              "      <th>4</th>\n",
              "      <td>5000000</td>\n",
              "      <td>665</td>\n",
              "      <td>Kharghar</td>\n",
              "      <td>1</td>\n",
              "      <td>0</td>\n",
              "      <td>1</td>\n",
              "      <td>1</td>\n",
              "      <td>1</td>\n",
              "      <td>1</td>\n",
              "      <td>0</td>\n",
              "      <td>0</td>\n",
              "      <td>1</td>\n",
              "      <td>7518.796992</td>\n",
              "    </tr>\n",
              "  </tbody>\n",
              "</table>\n",
              "</div>"
            ],
            "text/plain": [
              "     Price  Area  Location  bhk  Gymnasium  Lift  Car  Maintenance Staff  \\\n",
              "0  4850000   720  Kharghar    1          0     1    1                  1   \n",
              "1  4500000   600  Kharghar    1          1     1    1                  1   \n",
              "2  6700000   650  Kharghar    1          1     1    1                  1   \n",
              "3  4500000   650  Kharghar    1          0     1    1                  1   \n",
              "4  5000000   665  Kharghar    1          0     1    1                  1   \n",
              "\n",
              "   Security  Children's Play Area  Clubhouse  Intercom  Price_per_sqft  \n",
              "0         1                     0          0         0     6736.111111  \n",
              "1         1                     0          1         0     7500.000000  \n",
              "2         1                     1          1         1    10307.692308  \n",
              "3         1                     0          0         1     6923.076923  \n",
              "4         1                     0          0         1     7518.796992  "
            ]
          },
          "execution_count": 21,
          "metadata": {},
          "output_type": "execute_result"
        }
      ],
      "source": [
        "df5 = df4.copy()\n",
        "df5.rename(\n",
        "    columns=({ 'No. of Bedrooms': 'bhk','Lift Available':'Lift','Car Parking':'Car','24x7 Security':'Security'}), \n",
        "    inplace=True,\n",
        ")\n",
        "df5.head()"
      ]
    },
    {
      "cell_type": "code",
      "execution_count": 22,
      "metadata": {
        "colab": {
          "base_uri": "https://localhost:8080/",
          "height": 112
        },
        "id": "ZxbTwhFJekrt",
        "outputId": "e40d7951-31b0-4f7a-81c4-a2629771f26b"
      },
      "outputs": [
        {
          "data": {
            "text/html": [
              "<div>\n",
              "<style scoped>\n",
              "    .dataframe tbody tr th:only-of-type {\n",
              "        vertical-align: middle;\n",
              "    }\n",
              "\n",
              "    .dataframe tbody tr th {\n",
              "        vertical-align: top;\n",
              "    }\n",
              "\n",
              "    .dataframe thead th {\n",
              "        text-align: right;\n",
              "    }\n",
              "</style>\n",
              "<table border=\"1\" class=\"dataframe\">\n",
              "  <thead>\n",
              "    <tr style=\"text-align: right;\">\n",
              "      <th></th>\n",
              "      <th>Price</th>\n",
              "      <th>Area</th>\n",
              "      <th>Location</th>\n",
              "      <th>bhk</th>\n",
              "      <th>Gymnasium</th>\n",
              "      <th>Lift</th>\n",
              "      <th>Car</th>\n",
              "      <th>Maintenance Staff</th>\n",
              "      <th>Security</th>\n",
              "      <th>Children's Play Area</th>\n",
              "      <th>Clubhouse</th>\n",
              "      <th>Intercom</th>\n",
              "      <th>Price_per_sqft</th>\n",
              "    </tr>\n",
              "  </thead>\n",
              "  <tbody>\n",
              "    <tr>\n",
              "      <th>4573</th>\n",
              "      <td>9370000</td>\n",
              "      <td>583</td>\n",
              "      <td>Mira Road East</td>\n",
              "      <td>3</td>\n",
              "      <td>1</td>\n",
              "      <td>1</td>\n",
              "      <td>1</td>\n",
              "      <td>0</td>\n",
              "      <td>1</td>\n",
              "      <td>1</td>\n",
              "      <td>1</td>\n",
              "      <td>1</td>\n",
              "      <td>16072.041166</td>\n",
              "    </tr>\n",
              "    <tr>\n",
              "      <th>6138</th>\n",
              "      <td>9500000</td>\n",
              "      <td>583</td>\n",
              "      <td>Mira Road East</td>\n",
              "      <td>3</td>\n",
              "      <td>1</td>\n",
              "      <td>1</td>\n",
              "      <td>1</td>\n",
              "      <td>0</td>\n",
              "      <td>1</td>\n",
              "      <td>1</td>\n",
              "      <td>1</td>\n",
              "      <td>1</td>\n",
              "      <td>16295.025729</td>\n",
              "    </tr>\n",
              "  </tbody>\n",
              "</table>\n",
              "</div>"
            ],
            "text/plain": [
              "        Price  Area        Location  bhk  Gymnasium  Lift  Car  \\\n",
              "4573  9370000   583  Mira Road East    3          1     1    1   \n",
              "6138  9500000   583  Mira Road East    3          1     1    1   \n",
              "\n",
              "      Maintenance Staff  Security  Children's Play Area  Clubhouse  Intercom  \\\n",
              "4573                  0         1                     1          1         1   \n",
              "6138                  0         1                     1          1         1   \n",
              "\n",
              "      Price_per_sqft  \n",
              "4573    16072.041166  \n",
              "6138    16295.025729  "
            ]
          },
          "execution_count": 22,
          "metadata": {},
          "output_type": "execute_result"
        }
      ],
      "source": [
        "df5[df5.Area/df5.bhk<200].head()"
      ]
    },
    {
      "cell_type": "code",
      "execution_count": 23,
      "metadata": {
        "colab": {
          "base_uri": "https://localhost:8080/"
        },
        "id": "UyyUH_OFe7mW",
        "outputId": "bf3865c8-2a1b-4781-c9ad-46ef5cf1c374"
      },
      "outputs": [
        {
          "data": {
            "text/plain": [
              "(6347, 13)"
            ]
          },
          "execution_count": 23,
          "metadata": {},
          "output_type": "execute_result"
        }
      ],
      "source": [
        "df5.shape"
      ]
    },
    {
      "cell_type": "code",
      "execution_count": 24,
      "metadata": {
        "colab": {
          "base_uri": "https://localhost:8080/"
        },
        "id": "03s4RVgqe_f1",
        "outputId": "6df76937-564b-410c-9d2a-ba0e7635562b"
      },
      "outputs": [
        {
          "data": {
            "text/plain": [
              "(6345, 13)"
            ]
          },
          "execution_count": 24,
          "metadata": {},
          "output_type": "execute_result"
        }
      ],
      "source": [
        "df6 = df5[~(df5.Area/df5.bhk<200)]\n",
        "df6.shape"
      ]
    },
    {
      "cell_type": "code",
      "execution_count": 25,
      "metadata": {
        "colab": {
          "base_uri": "https://localhost:8080/"
        },
        "id": "4eCvIg6VfVnn",
        "outputId": "cefe4854-22a6-43e7-aa35-1226f5d97425"
      },
      "outputs": [
        {
          "data": {
            "text/plain": [
              "count      6345.000000\n",
              "mean      13554.637449\n",
              "std        9575.316556\n",
              "min        1597.444089\n",
              "25%        7234.042553\n",
              "50%       10483.870968\n",
              "75%       17142.857143\n",
              "max      109950.522265\n",
              "Name: Price_per_sqft, dtype: float64"
            ]
          },
          "execution_count": 25,
          "metadata": {},
          "output_type": "execute_result"
        }
      ],
      "source": [
        "df6.Price_per_sqft.describe()"
      ]
    },
    {
      "cell_type": "code",
      "execution_count": 26,
      "metadata": {
        "colab": {
          "base_uri": "https://localhost:8080/"
        },
        "id": "pjwqMYZXfrDP",
        "outputId": "13541daf-cac3-4501-b182-04ea66ed7833"
      },
      "outputs": [
        {
          "data": {
            "text/plain": [
              "(4869, 13)"
            ]
          },
          "execution_count": 26,
          "metadata": {},
          "output_type": "execute_result"
        }
      ],
      "source": [
        "def removeOutliners(df):\n",
        "  df_Out = pd.DataFrame()\n",
        "  for key,subdf in df.groupby('Location'):\n",
        "    m = np.mean(subdf.Price_per_sqft)\n",
        "    st = np.std(subdf.Price_per_sqft)\n",
        "    reduced = subdf[(subdf.Price_per_sqft>(m-st)) & (subdf.Price_per_sqft<=(m+st))]\n",
        "    df_Out = pd.concat([df_Out,reduced],ignore_index=True)\n",
        "  return df_Out\n",
        "df7 = removeOutliners(df6)\n",
        "df7.shape"
      ]
    },
    {
      "cell_type": "code",
      "execution_count": 27,
      "metadata": {
        "colab": {
          "base_uri": "https://localhost:8080/",
          "height": 303
        },
        "id": "ZXF4a6xmbJhz",
        "outputId": "feec0f9b-47f0-4b00-b9fb-ebebab5c33f6"
      },
      "outputs": [
        {
          "data": {
            "text/html": [
              "<div>\n",
              "<style scoped>\n",
              "    .dataframe tbody tr th:only-of-type {\n",
              "        vertical-align: middle;\n",
              "    }\n",
              "\n",
              "    .dataframe tbody tr th {\n",
              "        vertical-align: top;\n",
              "    }\n",
              "\n",
              "    .dataframe thead th {\n",
              "        text-align: right;\n",
              "    }\n",
              "</style>\n",
              "<table border=\"1\" class=\"dataframe\">\n",
              "  <thead>\n",
              "    <tr style=\"text-align: right;\">\n",
              "      <th></th>\n",
              "      <th>Airoli</th>\n",
              "      <th>Ambernath East</th>\n",
              "      <th>Ambernath West</th>\n",
              "      <th>Andheri</th>\n",
              "      <th>Andheri East</th>\n",
              "      <th>Andheri West</th>\n",
              "      <th>Badlapur</th>\n",
              "      <th>Badlapur East</th>\n",
              "      <th>Badlapur West</th>\n",
              "      <th>Bandra East</th>\n",
              "      <th>...</th>\n",
              "      <th>Wadala</th>\n",
              "      <th>Wadala East Wadala</th>\n",
              "      <th>Worli</th>\n",
              "      <th>kandivali</th>\n",
              "      <th>kavesar</th>\n",
              "      <th>matunga east</th>\n",
              "      <th>mumbai</th>\n",
              "      <th>other</th>\n",
              "      <th>taloja panchanand</th>\n",
              "      <th>vile parle west</th>\n",
              "    </tr>\n",
              "  </thead>\n",
              "  <tbody>\n",
              "    <tr>\n",
              "      <th>0</th>\n",
              "      <td>1</td>\n",
              "      <td>0</td>\n",
              "      <td>0</td>\n",
              "      <td>0</td>\n",
              "      <td>0</td>\n",
              "      <td>0</td>\n",
              "      <td>0</td>\n",
              "      <td>0</td>\n",
              "      <td>0</td>\n",
              "      <td>0</td>\n",
              "      <td>...</td>\n",
              "      <td>0</td>\n",
              "      <td>0</td>\n",
              "      <td>0</td>\n",
              "      <td>0</td>\n",
              "      <td>0</td>\n",
              "      <td>0</td>\n",
              "      <td>0</td>\n",
              "      <td>0</td>\n",
              "      <td>0</td>\n",
              "      <td>0</td>\n",
              "    </tr>\n",
              "    <tr>\n",
              "      <th>1</th>\n",
              "      <td>1</td>\n",
              "      <td>0</td>\n",
              "      <td>0</td>\n",
              "      <td>0</td>\n",
              "      <td>0</td>\n",
              "      <td>0</td>\n",
              "      <td>0</td>\n",
              "      <td>0</td>\n",
              "      <td>0</td>\n",
              "      <td>0</td>\n",
              "      <td>...</td>\n",
              "      <td>0</td>\n",
              "      <td>0</td>\n",
              "      <td>0</td>\n",
              "      <td>0</td>\n",
              "      <td>0</td>\n",
              "      <td>0</td>\n",
              "      <td>0</td>\n",
              "      <td>0</td>\n",
              "      <td>0</td>\n",
              "      <td>0</td>\n",
              "    </tr>\n",
              "    <tr>\n",
              "      <th>2</th>\n",
              "      <td>1</td>\n",
              "      <td>0</td>\n",
              "      <td>0</td>\n",
              "      <td>0</td>\n",
              "      <td>0</td>\n",
              "      <td>0</td>\n",
              "      <td>0</td>\n",
              "      <td>0</td>\n",
              "      <td>0</td>\n",
              "      <td>0</td>\n",
              "      <td>...</td>\n",
              "      <td>0</td>\n",
              "      <td>0</td>\n",
              "      <td>0</td>\n",
              "      <td>0</td>\n",
              "      <td>0</td>\n",
              "      <td>0</td>\n",
              "      <td>0</td>\n",
              "      <td>0</td>\n",
              "      <td>0</td>\n",
              "      <td>0</td>\n",
              "    </tr>\n",
              "    <tr>\n",
              "      <th>3</th>\n",
              "      <td>1</td>\n",
              "      <td>0</td>\n",
              "      <td>0</td>\n",
              "      <td>0</td>\n",
              "      <td>0</td>\n",
              "      <td>0</td>\n",
              "      <td>0</td>\n",
              "      <td>0</td>\n",
              "      <td>0</td>\n",
              "      <td>0</td>\n",
              "      <td>...</td>\n",
              "      <td>0</td>\n",
              "      <td>0</td>\n",
              "      <td>0</td>\n",
              "      <td>0</td>\n",
              "      <td>0</td>\n",
              "      <td>0</td>\n",
              "      <td>0</td>\n",
              "      <td>0</td>\n",
              "      <td>0</td>\n",
              "      <td>0</td>\n",
              "    </tr>\n",
              "  </tbody>\n",
              "</table>\n",
              "<p>4 rows × 130 columns</p>\n",
              "</div>"
            ],
            "text/plain": [
              "   Airoli  Ambernath East  Ambernath West  Andheri  Andheri East  \\\n",
              "0       1               0               0        0             0   \n",
              "1       1               0               0        0             0   \n",
              "2       1               0               0        0             0   \n",
              "3       1               0               0        0             0   \n",
              "\n",
              "   Andheri West  Badlapur  Badlapur East  Badlapur West  Bandra East  ...  \\\n",
              "0             0         0              0              0            0  ...   \n",
              "1             0         0              0              0            0  ...   \n",
              "2             0         0              0              0            0  ...   \n",
              "3             0         0              0              0            0  ...   \n",
              "\n",
              "   Wadala  Wadala East Wadala  Worli  kandivali  kavesar  matunga east  \\\n",
              "0       0                   0      0          0        0             0   \n",
              "1       0                   0      0          0        0             0   \n",
              "2       0                   0      0          0        0             0   \n",
              "3       0                   0      0          0        0             0   \n",
              "\n",
              "   mumbai  other  taloja panchanand  vile parle west  \n",
              "0       0      0                  0                0  \n",
              "1       0      0                  0                0  \n",
              "2       0      0                  0                0  \n",
              "3       0      0                  0                0  \n",
              "\n",
              "[4 rows x 130 columns]"
            ]
          },
          "execution_count": 27,
          "metadata": {},
          "output_type": "execute_result"
        }
      ],
      "source": [
        "dummies = pd.get_dummies(df7.Location)\n",
        "dummies.head(4)"
      ]
    },
    {
      "cell_type": "code",
      "execution_count": 28,
      "metadata": {
        "colab": {
          "base_uri": "https://localhost:8080/",
          "height": 272
        },
        "id": "pnd-dUXychpy",
        "outputId": "257efc5c-7123-49ae-ccd9-4cb74fabd05b"
      },
      "outputs": [
        {
          "data": {
            "text/html": [
              "<div>\n",
              "<style scoped>\n",
              "    .dataframe tbody tr th:only-of-type {\n",
              "        vertical-align: middle;\n",
              "    }\n",
              "\n",
              "    .dataframe tbody tr th {\n",
              "        vertical-align: top;\n",
              "    }\n",
              "\n",
              "    .dataframe thead th {\n",
              "        text-align: right;\n",
              "    }\n",
              "</style>\n",
              "<table border=\"1\" class=\"dataframe\">\n",
              "  <thead>\n",
              "    <tr style=\"text-align: right;\">\n",
              "      <th></th>\n",
              "      <th>Price</th>\n",
              "      <th>Area</th>\n",
              "      <th>Location</th>\n",
              "      <th>bhk</th>\n",
              "      <th>Gymnasium</th>\n",
              "      <th>Lift</th>\n",
              "      <th>Car</th>\n",
              "      <th>Maintenance Staff</th>\n",
              "      <th>Security</th>\n",
              "      <th>Children's Play Area</th>\n",
              "      <th>...</th>\n",
              "      <th>Virar West</th>\n",
              "      <th>Wadala</th>\n",
              "      <th>Wadala East Wadala</th>\n",
              "      <th>Worli</th>\n",
              "      <th>kandivali</th>\n",
              "      <th>kavesar</th>\n",
              "      <th>matunga east</th>\n",
              "      <th>mumbai</th>\n",
              "      <th>taloja panchanand</th>\n",
              "      <th>vile parle west</th>\n",
              "    </tr>\n",
              "  </thead>\n",
              "  <tbody>\n",
              "    <tr>\n",
              "      <th>0</th>\n",
              "      <td>6200000</td>\n",
              "      <td>400</td>\n",
              "      <td>Airoli</td>\n",
              "      <td>1</td>\n",
              "      <td>0</td>\n",
              "      <td>1</td>\n",
              "      <td>1</td>\n",
              "      <td>1</td>\n",
              "      <td>1</td>\n",
              "      <td>0</td>\n",
              "      <td>...</td>\n",
              "      <td>0</td>\n",
              "      <td>0</td>\n",
              "      <td>0</td>\n",
              "      <td>0</td>\n",
              "      <td>0</td>\n",
              "      <td>0</td>\n",
              "      <td>0</td>\n",
              "      <td>0</td>\n",
              "      <td>0</td>\n",
              "      <td>0</td>\n",
              "    </tr>\n",
              "    <tr>\n",
              "      <th>1</th>\n",
              "      <td>9500000</td>\n",
              "      <td>1000</td>\n",
              "      <td>Airoli</td>\n",
              "      <td>2</td>\n",
              "      <td>0</td>\n",
              "      <td>1</td>\n",
              "      <td>1</td>\n",
              "      <td>1</td>\n",
              "      <td>1</td>\n",
              "      <td>0</td>\n",
              "      <td>...</td>\n",
              "      <td>0</td>\n",
              "      <td>0</td>\n",
              "      <td>0</td>\n",
              "      <td>0</td>\n",
              "      <td>0</td>\n",
              "      <td>0</td>\n",
              "      <td>0</td>\n",
              "      <td>0</td>\n",
              "      <td>0</td>\n",
              "      <td>0</td>\n",
              "    </tr>\n",
              "    <tr>\n",
              "      <th>2</th>\n",
              "      <td>14900000</td>\n",
              "      <td>1245</td>\n",
              "      <td>Airoli</td>\n",
              "      <td>2</td>\n",
              "      <td>0</td>\n",
              "      <td>1</td>\n",
              "      <td>1</td>\n",
              "      <td>0</td>\n",
              "      <td>0</td>\n",
              "      <td>0</td>\n",
              "      <td>...</td>\n",
              "      <td>0</td>\n",
              "      <td>0</td>\n",
              "      <td>0</td>\n",
              "      <td>0</td>\n",
              "      <td>0</td>\n",
              "      <td>0</td>\n",
              "      <td>0</td>\n",
              "      <td>0</td>\n",
              "      <td>0</td>\n",
              "      <td>0</td>\n",
              "    </tr>\n",
              "  </tbody>\n",
              "</table>\n",
              "<p>3 rows × 142 columns</p>\n",
              "</div>"
            ],
            "text/plain": [
              "      Price  Area Location  bhk  Gymnasium  Lift  Car  Maintenance Staff  \\\n",
              "0   6200000   400   Airoli    1          0     1    1                  1   \n",
              "1   9500000  1000   Airoli    2          0     1    1                  1   \n",
              "2  14900000  1245   Airoli    2          0     1    1                  0   \n",
              "\n",
              "   Security  Children's Play Area  ...  Virar West  Wadala  \\\n",
              "0         1                     0  ...           0       0   \n",
              "1         1                     0  ...           0       0   \n",
              "2         0                     0  ...           0       0   \n",
              "\n",
              "   Wadala East Wadala  Worli  kandivali  kavesar  matunga east  mumbai  \\\n",
              "0                   0      0          0        0             0       0   \n",
              "1                   0      0          0        0             0       0   \n",
              "2                   0      0          0        0             0       0   \n",
              "\n",
              "   taloja panchanand  vile parle west  \n",
              "0                  0                0  \n",
              "1                  0                0  \n",
              "2                  0                0  \n",
              "\n",
              "[3 rows x 142 columns]"
            ]
          },
          "execution_count": 28,
          "metadata": {},
          "output_type": "execute_result"
        }
      ],
      "source": [
        "df8 = pd.concat([df7,dummies.drop('other',axis='columns')],axis='columns')\n",
        "df8.head(3)"
      ]
    },
    {
      "cell_type": "code",
      "execution_count": 29,
      "metadata": {
        "colab": {
          "base_uri": "https://localhost:8080/",
          "height": 240
        },
        "id": "A3bxQ3H1dCnx",
        "outputId": "d7eb2da0-b9f7-4e36-810c-d3054b80bf66"
      },
      "outputs": [
        {
          "data": {
            "text/html": [
              "<div>\n",
              "<style scoped>\n",
              "    .dataframe tbody tr th:only-of-type {\n",
              "        vertical-align: middle;\n",
              "    }\n",
              "\n",
              "    .dataframe tbody tr th {\n",
              "        vertical-align: top;\n",
              "    }\n",
              "\n",
              "    .dataframe thead th {\n",
              "        text-align: right;\n",
              "    }\n",
              "</style>\n",
              "<table border=\"1\" class=\"dataframe\">\n",
              "  <thead>\n",
              "    <tr style=\"text-align: right;\">\n",
              "      <th></th>\n",
              "      <th>Price</th>\n",
              "      <th>Area</th>\n",
              "      <th>bhk</th>\n",
              "      <th>Gymnasium</th>\n",
              "      <th>Lift</th>\n",
              "      <th>Car</th>\n",
              "      <th>Maintenance Staff</th>\n",
              "      <th>Security</th>\n",
              "      <th>Children's Play Area</th>\n",
              "      <th>Clubhouse</th>\n",
              "      <th>...</th>\n",
              "      <th>Virar West</th>\n",
              "      <th>Wadala</th>\n",
              "      <th>Wadala East Wadala</th>\n",
              "      <th>Worli</th>\n",
              "      <th>kandivali</th>\n",
              "      <th>kavesar</th>\n",
              "      <th>matunga east</th>\n",
              "      <th>mumbai</th>\n",
              "      <th>taloja panchanand</th>\n",
              "      <th>vile parle west</th>\n",
              "    </tr>\n",
              "  </thead>\n",
              "  <tbody>\n",
              "    <tr>\n",
              "      <th>0</th>\n",
              "      <td>6200000</td>\n",
              "      <td>400</td>\n",
              "      <td>1</td>\n",
              "      <td>0</td>\n",
              "      <td>1</td>\n",
              "      <td>1</td>\n",
              "      <td>1</td>\n",
              "      <td>1</td>\n",
              "      <td>0</td>\n",
              "      <td>0</td>\n",
              "      <td>...</td>\n",
              "      <td>0</td>\n",
              "      <td>0</td>\n",
              "      <td>0</td>\n",
              "      <td>0</td>\n",
              "      <td>0</td>\n",
              "      <td>0</td>\n",
              "      <td>0</td>\n",
              "      <td>0</td>\n",
              "      <td>0</td>\n",
              "      <td>0</td>\n",
              "    </tr>\n",
              "    <tr>\n",
              "      <th>1</th>\n",
              "      <td>9500000</td>\n",
              "      <td>1000</td>\n",
              "      <td>2</td>\n",
              "      <td>0</td>\n",
              "      <td>1</td>\n",
              "      <td>1</td>\n",
              "      <td>1</td>\n",
              "      <td>1</td>\n",
              "      <td>0</td>\n",
              "      <td>1</td>\n",
              "      <td>...</td>\n",
              "      <td>0</td>\n",
              "      <td>0</td>\n",
              "      <td>0</td>\n",
              "      <td>0</td>\n",
              "      <td>0</td>\n",
              "      <td>0</td>\n",
              "      <td>0</td>\n",
              "      <td>0</td>\n",
              "      <td>0</td>\n",
              "      <td>0</td>\n",
              "    </tr>\n",
              "  </tbody>\n",
              "</table>\n",
              "<p>2 rows × 141 columns</p>\n",
              "</div>"
            ],
            "text/plain": [
              "     Price  Area  bhk  Gymnasium  Lift  Car  Maintenance Staff  Security  \\\n",
              "0  6200000   400    1          0     1    1                  1         1   \n",
              "1  9500000  1000    2          0     1    1                  1         1   \n",
              "\n",
              "   Children's Play Area  Clubhouse  ...  Virar West  Wadala  \\\n",
              "0                     0          0  ...           0       0   \n",
              "1                     0          1  ...           0       0   \n",
              "\n",
              "   Wadala East Wadala  Worli  kandivali  kavesar  matunga east  mumbai  \\\n",
              "0                   0      0          0        0             0       0   \n",
              "1                   0      0          0        0             0       0   \n",
              "\n",
              "   taloja panchanand  vile parle west  \n",
              "0                  0                0  \n",
              "1                  0                0  \n",
              "\n",
              "[2 rows x 141 columns]"
            ]
          },
          "execution_count": 29,
          "metadata": {},
          "output_type": "execute_result"
        }
      ],
      "source": [
        "df9 = df8.drop('Location',axis='columns')\n",
        "df9.head(2)"
      ]
    },
    {
      "cell_type": "code",
      "execution_count": 30,
      "metadata": {
        "colab": {
          "base_uri": "https://localhost:8080/"
        },
        "id": "AhZXwUgQdePc",
        "outputId": "ecae642e-32f4-4a46-a8af-0e108063388b"
      },
      "outputs": [
        {
          "data": {
            "text/plain": [
              "(4869, 141)"
            ]
          },
          "execution_count": 30,
          "metadata": {},
          "output_type": "execute_result"
        }
      ],
      "source": [
        "df9.shape"
      ]
    },
    {
      "cell_type": "code",
      "execution_count": 31,
      "metadata": {
        "colab": {
          "base_uri": "https://localhost:8080/",
          "height": 334
        },
        "id": "O5wbn_m9dhqx",
        "outputId": "99198a81-a6ed-4305-cd4d-df1f1954a3da"
      },
      "outputs": [
        {
          "data": {
            "text/html": [
              "<div>\n",
              "<style scoped>\n",
              "    .dataframe tbody tr th:only-of-type {\n",
              "        vertical-align: middle;\n",
              "    }\n",
              "\n",
              "    .dataframe tbody tr th {\n",
              "        vertical-align: top;\n",
              "    }\n",
              "\n",
              "    .dataframe thead th {\n",
              "        text-align: right;\n",
              "    }\n",
              "</style>\n",
              "<table border=\"1\" class=\"dataframe\">\n",
              "  <thead>\n",
              "    <tr style=\"text-align: right;\">\n",
              "      <th></th>\n",
              "      <th>Area</th>\n",
              "      <th>bhk</th>\n",
              "      <th>Gymnasium</th>\n",
              "      <th>Lift</th>\n",
              "      <th>Car</th>\n",
              "      <th>Maintenance Staff</th>\n",
              "      <th>Security</th>\n",
              "      <th>Children's Play Area</th>\n",
              "      <th>Clubhouse</th>\n",
              "      <th>Intercom</th>\n",
              "      <th>...</th>\n",
              "      <th>Virar West</th>\n",
              "      <th>Wadala</th>\n",
              "      <th>Wadala East Wadala</th>\n",
              "      <th>Worli</th>\n",
              "      <th>kandivali</th>\n",
              "      <th>kavesar</th>\n",
              "      <th>matunga east</th>\n",
              "      <th>mumbai</th>\n",
              "      <th>taloja panchanand</th>\n",
              "      <th>vile parle west</th>\n",
              "    </tr>\n",
              "  </thead>\n",
              "  <tbody>\n",
              "    <tr>\n",
              "      <th>0</th>\n",
              "      <td>400</td>\n",
              "      <td>1</td>\n",
              "      <td>0</td>\n",
              "      <td>1</td>\n",
              "      <td>1</td>\n",
              "      <td>1</td>\n",
              "      <td>1</td>\n",
              "      <td>0</td>\n",
              "      <td>0</td>\n",
              "      <td>0</td>\n",
              "      <td>...</td>\n",
              "      <td>0</td>\n",
              "      <td>0</td>\n",
              "      <td>0</td>\n",
              "      <td>0</td>\n",
              "      <td>0</td>\n",
              "      <td>0</td>\n",
              "      <td>0</td>\n",
              "      <td>0</td>\n",
              "      <td>0</td>\n",
              "      <td>0</td>\n",
              "    </tr>\n",
              "    <tr>\n",
              "      <th>1</th>\n",
              "      <td>1000</td>\n",
              "      <td>2</td>\n",
              "      <td>0</td>\n",
              "      <td>1</td>\n",
              "      <td>1</td>\n",
              "      <td>1</td>\n",
              "      <td>1</td>\n",
              "      <td>0</td>\n",
              "      <td>1</td>\n",
              "      <td>0</td>\n",
              "      <td>...</td>\n",
              "      <td>0</td>\n",
              "      <td>0</td>\n",
              "      <td>0</td>\n",
              "      <td>0</td>\n",
              "      <td>0</td>\n",
              "      <td>0</td>\n",
              "      <td>0</td>\n",
              "      <td>0</td>\n",
              "      <td>0</td>\n",
              "      <td>0</td>\n",
              "    </tr>\n",
              "    <tr>\n",
              "      <th>2</th>\n",
              "      <td>1245</td>\n",
              "      <td>2</td>\n",
              "      <td>0</td>\n",
              "      <td>1</td>\n",
              "      <td>1</td>\n",
              "      <td>0</td>\n",
              "      <td>0</td>\n",
              "      <td>0</td>\n",
              "      <td>0</td>\n",
              "      <td>0</td>\n",
              "      <td>...</td>\n",
              "      <td>0</td>\n",
              "      <td>0</td>\n",
              "      <td>0</td>\n",
              "      <td>0</td>\n",
              "      <td>0</td>\n",
              "      <td>0</td>\n",
              "      <td>0</td>\n",
              "      <td>0</td>\n",
              "      <td>0</td>\n",
              "      <td>0</td>\n",
              "    </tr>\n",
              "    <tr>\n",
              "      <th>3</th>\n",
              "      <td>1183</td>\n",
              "      <td>2</td>\n",
              "      <td>1</td>\n",
              "      <td>1</td>\n",
              "      <td>1</td>\n",
              "      <td>0</td>\n",
              "      <td>1</td>\n",
              "      <td>1</td>\n",
              "      <td>1</td>\n",
              "      <td>1</td>\n",
              "      <td>...</td>\n",
              "      <td>0</td>\n",
              "      <td>0</td>\n",
              "      <td>0</td>\n",
              "      <td>0</td>\n",
              "      <td>0</td>\n",
              "      <td>0</td>\n",
              "      <td>0</td>\n",
              "      <td>0</td>\n",
              "      <td>0</td>\n",
              "      <td>0</td>\n",
              "    </tr>\n",
              "    <tr>\n",
              "      <th>4</th>\n",
              "      <td>1245</td>\n",
              "      <td>2</td>\n",
              "      <td>0</td>\n",
              "      <td>1</td>\n",
              "      <td>1</td>\n",
              "      <td>1</td>\n",
              "      <td>1</td>\n",
              "      <td>0</td>\n",
              "      <td>0</td>\n",
              "      <td>0</td>\n",
              "      <td>...</td>\n",
              "      <td>0</td>\n",
              "      <td>0</td>\n",
              "      <td>0</td>\n",
              "      <td>0</td>\n",
              "      <td>0</td>\n",
              "      <td>0</td>\n",
              "      <td>0</td>\n",
              "      <td>0</td>\n",
              "      <td>0</td>\n",
              "      <td>0</td>\n",
              "    </tr>\n",
              "  </tbody>\n",
              "</table>\n",
              "<p>5 rows × 140 columns</p>\n",
              "</div>"
            ],
            "text/plain": [
              "   Area  bhk  Gymnasium  Lift  Car  Maintenance Staff  Security  \\\n",
              "0   400    1          0     1    1                  1         1   \n",
              "1  1000    2          0     1    1                  1         1   \n",
              "2  1245    2          0     1    1                  0         0   \n",
              "3  1183    2          1     1    1                  0         1   \n",
              "4  1245    2          0     1    1                  1         1   \n",
              "\n",
              "   Children's Play Area  Clubhouse  Intercom  ...  Virar West  Wadala  \\\n",
              "0                     0          0         0  ...           0       0   \n",
              "1                     0          1         0  ...           0       0   \n",
              "2                     0          0         0  ...           0       0   \n",
              "3                     1          1         1  ...           0       0   \n",
              "4                     0          0         0  ...           0       0   \n",
              "\n",
              "   Wadala East Wadala  Worli  kandivali  kavesar  matunga east  mumbai  \\\n",
              "0                   0      0          0        0             0       0   \n",
              "1                   0      0          0        0             0       0   \n",
              "2                   0      0          0        0             0       0   \n",
              "3                   0      0          0        0             0       0   \n",
              "4                   0      0          0        0             0       0   \n",
              "\n",
              "   taloja panchanand  vile parle west  \n",
              "0                  0                0  \n",
              "1                  0                0  \n",
              "2                  0                0  \n",
              "3                  0                0  \n",
              "4                  0                0  \n",
              "\n",
              "[5 rows x 140 columns]"
            ]
          },
          "execution_count": 31,
          "metadata": {},
          "output_type": "execute_result"
        }
      ],
      "source": [
        "X = df9.drop('Price',axis='columns')\n",
        "X.head()"
      ]
    },
    {
      "cell_type": "code",
      "execution_count": 32,
      "metadata": {
        "colab": {
          "base_uri": "https://localhost:8080/"
        },
        "id": "sgrlCG69du4v",
        "outputId": "255f9dd0-af2b-47e8-b706-bf7cd4543560"
      },
      "outputs": [
        {
          "data": {
            "text/plain": [
              "0     62.0\n",
              "1     95.0\n",
              "2    149.0\n",
              "3    140.0\n",
              "4    148.0\n",
              "Name: Price, dtype: float64"
            ]
          },
          "execution_count": 32,
          "metadata": {},
          "output_type": "execute_result"
        }
      ],
      "source": [
        "Y1 = df9.Price\n",
        "Y = Y1/100000\n",
        "Y.head()"
      ]
    },
    {
      "cell_type": "code",
      "execution_count": 33,
      "metadata": {
        "id": "KcWbH-gkd_Ah"
      },
      "outputs": [],
      "source": [
        "from sklearn.model_selection import train_test_split\n",
        "X_train,X_test,Y_train,Y_test = train_test_split(X,Y,test_size=0.2,random_state=10)"
      ]
    },
    {
      "cell_type": "code",
      "execution_count": 34,
      "metadata": {
        "colab": {
          "base_uri": "https://localhost:8080/"
        },
        "id": "3Q_OGv8yRDeq",
        "outputId": "aac9ab63-1f77-487d-c15b-557063de2db3"
      },
      "outputs": [
        {
          "data": {
            "text/plain": [
              "0.8991650750305651"
            ]
          },
          "execution_count": 34,
          "metadata": {},
          "output_type": "execute_result"
        }
      ],
      "source": [
        "from sklearn.linear_model import LinearRegression\n",
        "lr_clf = LinearRegression()\n",
        "lr_clf.fit(X_train,Y_train)\n",
        "lr_clf.score(X_test,Y_test)"
      ]
    },
    {
      "cell_type": "code",
      "execution_count": 35,
      "metadata": {
        "colab": {
          "base_uri": "https://localhost:8080/"
        },
        "id": "T3S9rcV0fm-g",
        "outputId": "7cc6e4e9-0662-477d-dae3-36659317e44e"
      },
      "outputs": [
        {
          "data": {
            "text/plain": [
              "array([0.90056004, 0.88316249, 0.89457892, 0.91808689, 0.90761913])"
            ]
          },
          "execution_count": 35,
          "metadata": {},
          "output_type": "execute_result"
        }
      ],
      "source": [
        "from sklearn.model_selection import ShuffleSplit\n",
        "from sklearn.model_selection import cross_val_score\n",
        "\n",
        "cv = ShuffleSplit(n_splits=5,test_size=0.2,random_state=0)\n",
        "\n",
        "cross_val_score(LinearRegression(),X,Y,cv=cv)"
      ]
    },
    {
      "cell_type": "code",
      "execution_count": 36,
      "metadata": {
        "colab": {
          "base_uri": "https://localhost:8080/",
          "height": 143
        },
        "id": "5FCh3la_gYUL",
        "outputId": "35636055-0ae3-4476-c44f-e5b31d6424e4"
      },
      "outputs": [
        {
          "data": {
            "text/html": [
              "<div>\n",
              "<style scoped>\n",
              "    .dataframe tbody tr th:only-of-type {\n",
              "        vertical-align: middle;\n",
              "    }\n",
              "\n",
              "    .dataframe tbody tr th {\n",
              "        vertical-align: top;\n",
              "    }\n",
              "\n",
              "    .dataframe thead th {\n",
              "        text-align: right;\n",
              "    }\n",
              "</style>\n",
              "<table border=\"1\" class=\"dataframe\">\n",
              "  <thead>\n",
              "    <tr style=\"text-align: right;\">\n",
              "      <th></th>\n",
              "      <th>model</th>\n",
              "      <th>best_score</th>\n",
              "      <th>best_params</th>\n",
              "    </tr>\n",
              "  </thead>\n",
              "  <tbody>\n",
              "    <tr>\n",
              "      <th>0</th>\n",
              "      <td>linear_regression</td>\n",
              "      <td>0.900801</td>\n",
              "      <td>{'normalize': False}</td>\n",
              "    </tr>\n",
              "    <tr>\n",
              "      <th>1</th>\n",
              "      <td>lasso</td>\n",
              "      <td>0.890017</td>\n",
              "      <td>{'alpha': 1, 'selection': 'cyclic'}</td>\n",
              "    </tr>\n",
              "    <tr>\n",
              "      <th>2</th>\n",
              "      <td>decision_Tree</td>\n",
              "      <td>0.969428</td>\n",
              "      <td>{'criterion': 'mse', 'splitter': 'best'}</td>\n",
              "    </tr>\n",
              "  </tbody>\n",
              "</table>\n",
              "</div>"
            ],
            "text/plain": [
              "               model  best_score                               best_params\n",
              "0  linear_regression    0.900801                      {'normalize': False}\n",
              "1              lasso    0.890017       {'alpha': 1, 'selection': 'cyclic'}\n",
              "2      decision_Tree    0.969428  {'criterion': 'mse', 'splitter': 'best'}"
            ]
          },
          "execution_count": 36,
          "metadata": {},
          "output_type": "execute_result"
        }
      ],
      "source": [
        "from sklearn.model_selection import GridSearchCV\n",
        "from sklearn.linear_model import Lasso\n",
        "from sklearn.tree import DecisionTreeRegressor\n",
        "import warnings\n",
        "warnings.filterwarnings(action='ignore')\n",
        "\n",
        "def find_best_model(X,Y):\n",
        "  algos = {\n",
        "      'linear_regression':{\n",
        "          'model': LinearRegression(),\n",
        "          'params':{\n",
        "              'normalize' :[True,False]\n",
        "          }\n",
        "      },\n",
        "\n",
        "      'lasso':{\n",
        "          'model':Lasso(),\n",
        "          'params':{\n",
        "              'alpha':[1,2],\n",
        "              'selection':['random','cyclic']\n",
        "          }\n",
        "      },\n",
        "\n",
        "      'decision_Tree':{\n",
        "            'model':DecisionTreeRegressor(),\n",
        "            'params':{\n",
        "                'criterion':['mse','friedman_mse'],\n",
        "                'splitter':['best','random']\n",
        "            }\n",
        "      }\n",
        "  }\n",
        "\n",
        "  scores=[]\n",
        "  cv = ShuffleSplit(n_splits=5,test_size=0.2,random_state=0)\n",
        "  for algo_name,config in algos.items():\n",
        "   gs = GridSearchCV(config['model'],config['params'],cv=cv,return_train_score=False)\n",
        "   gs.fit(X,Y)\n",
        "   scores.append({\n",
        "       'model':algo_name,\n",
        "       'best_score':gs.best_score_,\n",
        "       'best_params':gs.best_params_\n",
        "   })\n",
        "\n",
        "  return pd.DataFrame(scores,columns=['model','best_score','best_params'])\n",
        "\n",
        "find_best_model(X,Y)"
      ]
    },
    {
      "cell_type": "markdown",
      "metadata": {
        "id": "fEFkHI6fksIw"
      },
      "source": [
        "# Decesion Tree"
      ]
    },
    {
      "cell_type": "code",
      "execution_count": 37,
      "metadata": {
        "colab": {
          "base_uri": "https://localhost:8080/"
        },
        "id": "gcmm-4oBh9Rf",
        "outputId": "417919dd-3df1-4a2e-f418-60032c4afaa8"
      },
      "outputs": [
        {
          "data": {
            "text/plain": [
              "0.9238418007709177"
            ]
          },
          "execution_count": 37,
          "metadata": {},
          "output_type": "execute_result"
        }
      ],
      "source": [
        "model = DecisionTreeRegressor(criterion = 'friedman_mse', splitter=\"random\")\n",
        "model.fit(X_train,Y_train)\n",
        "model.score(X_test,Y_test)"
      ]
    },
    {
      "cell_type": "code",
      "execution_count": 38,
      "metadata": {
        "colab": {
          "base_uri": "https://localhost:8080/",
          "height": 334
        },
        "id": "u5JBsc1EoNSB",
        "outputId": "a48bc5b9-c96e-4de0-9888-b15a845ef27a"
      },
      "outputs": [
        {
          "data": {
            "text/html": [
              "<div>\n",
              "<style scoped>\n",
              "    .dataframe tbody tr th:only-of-type {\n",
              "        vertical-align: middle;\n",
              "    }\n",
              "\n",
              "    .dataframe tbody tr th {\n",
              "        vertical-align: top;\n",
              "    }\n",
              "\n",
              "    .dataframe thead th {\n",
              "        text-align: right;\n",
              "    }\n",
              "</style>\n",
              "<table border=\"1\" class=\"dataframe\">\n",
              "  <thead>\n",
              "    <tr style=\"text-align: right;\">\n",
              "      <th></th>\n",
              "      <th>Area</th>\n",
              "      <th>bhk</th>\n",
              "      <th>Gymnasium</th>\n",
              "      <th>Lift</th>\n",
              "      <th>Car</th>\n",
              "      <th>Maintenance Staff</th>\n",
              "      <th>Security</th>\n",
              "      <th>Children's Play Area</th>\n",
              "      <th>Clubhouse</th>\n",
              "      <th>Intercom</th>\n",
              "      <th>...</th>\n",
              "      <th>Virar West</th>\n",
              "      <th>Wadala</th>\n",
              "      <th>Wadala East Wadala</th>\n",
              "      <th>Worli</th>\n",
              "      <th>kandivali</th>\n",
              "      <th>kavesar</th>\n",
              "      <th>matunga east</th>\n",
              "      <th>mumbai</th>\n",
              "      <th>taloja panchanand</th>\n",
              "      <th>vile parle west</th>\n",
              "    </tr>\n",
              "  </thead>\n",
              "  <tbody>\n",
              "    <tr>\n",
              "      <th>0</th>\n",
              "      <td>400</td>\n",
              "      <td>1</td>\n",
              "      <td>0</td>\n",
              "      <td>1</td>\n",
              "      <td>1</td>\n",
              "      <td>1</td>\n",
              "      <td>1</td>\n",
              "      <td>0</td>\n",
              "      <td>0</td>\n",
              "      <td>0</td>\n",
              "      <td>...</td>\n",
              "      <td>0</td>\n",
              "      <td>0</td>\n",
              "      <td>0</td>\n",
              "      <td>0</td>\n",
              "      <td>0</td>\n",
              "      <td>0</td>\n",
              "      <td>0</td>\n",
              "      <td>0</td>\n",
              "      <td>0</td>\n",
              "      <td>0</td>\n",
              "    </tr>\n",
              "    <tr>\n",
              "      <th>1</th>\n",
              "      <td>1000</td>\n",
              "      <td>2</td>\n",
              "      <td>0</td>\n",
              "      <td>1</td>\n",
              "      <td>1</td>\n",
              "      <td>1</td>\n",
              "      <td>1</td>\n",
              "      <td>0</td>\n",
              "      <td>1</td>\n",
              "      <td>0</td>\n",
              "      <td>...</td>\n",
              "      <td>0</td>\n",
              "      <td>0</td>\n",
              "      <td>0</td>\n",
              "      <td>0</td>\n",
              "      <td>0</td>\n",
              "      <td>0</td>\n",
              "      <td>0</td>\n",
              "      <td>0</td>\n",
              "      <td>0</td>\n",
              "      <td>0</td>\n",
              "    </tr>\n",
              "    <tr>\n",
              "      <th>2</th>\n",
              "      <td>1245</td>\n",
              "      <td>2</td>\n",
              "      <td>0</td>\n",
              "      <td>1</td>\n",
              "      <td>1</td>\n",
              "      <td>0</td>\n",
              "      <td>0</td>\n",
              "      <td>0</td>\n",
              "      <td>0</td>\n",
              "      <td>0</td>\n",
              "      <td>...</td>\n",
              "      <td>0</td>\n",
              "      <td>0</td>\n",
              "      <td>0</td>\n",
              "      <td>0</td>\n",
              "      <td>0</td>\n",
              "      <td>0</td>\n",
              "      <td>0</td>\n",
              "      <td>0</td>\n",
              "      <td>0</td>\n",
              "      <td>0</td>\n",
              "    </tr>\n",
              "    <tr>\n",
              "      <th>3</th>\n",
              "      <td>1183</td>\n",
              "      <td>2</td>\n",
              "      <td>1</td>\n",
              "      <td>1</td>\n",
              "      <td>1</td>\n",
              "      <td>0</td>\n",
              "      <td>1</td>\n",
              "      <td>1</td>\n",
              "      <td>1</td>\n",
              "      <td>1</td>\n",
              "      <td>...</td>\n",
              "      <td>0</td>\n",
              "      <td>0</td>\n",
              "      <td>0</td>\n",
              "      <td>0</td>\n",
              "      <td>0</td>\n",
              "      <td>0</td>\n",
              "      <td>0</td>\n",
              "      <td>0</td>\n",
              "      <td>0</td>\n",
              "      <td>0</td>\n",
              "    </tr>\n",
              "    <tr>\n",
              "      <th>4</th>\n",
              "      <td>1245</td>\n",
              "      <td>2</td>\n",
              "      <td>0</td>\n",
              "      <td>1</td>\n",
              "      <td>1</td>\n",
              "      <td>1</td>\n",
              "      <td>1</td>\n",
              "      <td>0</td>\n",
              "      <td>0</td>\n",
              "      <td>0</td>\n",
              "      <td>...</td>\n",
              "      <td>0</td>\n",
              "      <td>0</td>\n",
              "      <td>0</td>\n",
              "      <td>0</td>\n",
              "      <td>0</td>\n",
              "      <td>0</td>\n",
              "      <td>0</td>\n",
              "      <td>0</td>\n",
              "      <td>0</td>\n",
              "      <td>0</td>\n",
              "    </tr>\n",
              "  </tbody>\n",
              "</table>\n",
              "<p>5 rows × 140 columns</p>\n",
              "</div>"
            ],
            "text/plain": [
              "   Area  bhk  Gymnasium  Lift  Car  Maintenance Staff  Security  \\\n",
              "0   400    1          0     1    1                  1         1   \n",
              "1  1000    2          0     1    1                  1         1   \n",
              "2  1245    2          0     1    1                  0         0   \n",
              "3  1183    2          1     1    1                  0         1   \n",
              "4  1245    2          0     1    1                  1         1   \n",
              "\n",
              "   Children's Play Area  Clubhouse  Intercom  ...  Virar West  Wadala  \\\n",
              "0                     0          0         0  ...           0       0   \n",
              "1                     0          1         0  ...           0       0   \n",
              "2                     0          0         0  ...           0       0   \n",
              "3                     1          1         1  ...           0       0   \n",
              "4                     0          0         0  ...           0       0   \n",
              "\n",
              "   Wadala East Wadala  Worli  kandivali  kavesar  matunga east  mumbai  \\\n",
              "0                   0      0          0        0             0       0   \n",
              "1                   0      0          0        0             0       0   \n",
              "2                   0      0          0        0             0       0   \n",
              "3                   0      0          0        0             0       0   \n",
              "4                   0      0          0        0             0       0   \n",
              "\n",
              "   taloja panchanand  vile parle west  \n",
              "0                  0                0  \n",
              "1                  0                0  \n",
              "2                  0                0  \n",
              "3                  0                0  \n",
              "4                  0                0  \n",
              "\n",
              "[5 rows x 140 columns]"
            ]
          },
          "execution_count": 38,
          "metadata": {},
          "output_type": "execute_result"
        }
      ],
      "source": [
        "X.head()"
      ]
    },
    {
      "cell_type": "code",
      "execution_count": 39,
      "metadata": {
        "colab": {
          "base_uri": "https://localhost:8080/"
        },
        "id": "4unwfwJa7Cna",
        "outputId": "e6bd2b11-2a42-4c58-88ba-76f4289b7964"
      },
      "outputs": [
        {
          "data": {
            "text/plain": [
              "Index(['Area', 'bhk', 'Gymnasium', 'Lift', 'Car', 'Maintenance Staff',\n",
              "       'Security', 'Children's Play Area', 'Clubhouse', 'Intercom',\n",
              "       ...\n",
              "       'Virar West', 'Wadala', 'Wadala East Wadala', 'Worli', 'kandivali',\n",
              "       'kavesar', 'matunga east', 'mumbai', 'taloja panchanand',\n",
              "       'vile parle west'],\n",
              "      dtype='object', length=140)"
            ]
          },
          "execution_count": 39,
          "metadata": {},
          "output_type": "execute_result"
        }
      ],
      "source": [
        "X.columns"
      ]
    },
    {
      "cell_type": "code",
      "execution_count": 40,
      "metadata": {
        "colab": {
          "base_uri": "https://localhost:8080/"
        },
        "id": "twZ9_UxT6wsV",
        "outputId": "b13ff5df-5b0b-4bae-ec18-11b202b9d82f"
      },
      "outputs": [
        {
          "data": {
            "text/plain": [
              "130"
            ]
          },
          "execution_count": 40,
          "metadata": {},
          "output_type": "execute_result"
        }
      ],
      "source": [
        "np.where(X.columns=='Virar West')[0][0]"
      ]
    },
    {
      "cell_type": "markdown",
      "metadata": {
        "id": "BVKMxiLTk5aI"
      },
      "source": [
        "Prediction through Decesion Tree"
      ]
    },
    {
      "cell_type": "code",
      "execution_count": 42,
      "metadata": {
        "id": "vWu-8q4FWv0t"
      },
      "outputs": [],
      "source": [
        "def predict_price1(Location,Area,bhk,Gymnasium,Lift):\n",
        "  loc_index = np.where(X.columns==Location)[0][0]\n",
        "\n",
        "  x = np.zeros(len(X.columns))\n",
        "  x[0] = Area\n",
        "  x[1] = bhk\n",
        "  x[2] = Gymnasium\n",
        "  x[3] = Lift\n",
        "\n",
        "  if loc_index >=0:\n",
        "    x[loc_index] = 1\n",
        "\n",
        "  return model.predict([x])[0]"
      ]
    },
    {
      "cell_type": "code",
      "execution_count": 43,
      "metadata": {
        "colab": {
          "base_uri": "https://localhost:8080/"
        },
        "id": "pWaJwQOJyKOg",
        "outputId": "db7d0827-a817-40f7-e35c-a8227f49d30a"
      },
      "outputs": [
        {
          "data": {
            "text/plain": [
              "118.0"
            ]
          },
          "execution_count": 43,
          "metadata": {},
          "output_type": "execute_result"
        }
      ],
      "source": [
        "predict_price1('Worli',3150,4,1,1)"
      ]
    },
    {
      "cell_type": "code",
      "execution_count": 44,
      "metadata": {
        "colab": {
          "base_uri": "https://localhost:8080/"
        },
        "id": "HylcPXjvULQ1",
        "outputId": "0aab2d29-1629-4521-b87b-421805807fb0"
      },
      "outputs": [
        {
          "data": {
            "text/plain": [
              "27.7"
            ]
          },
          "execution_count": 44,
          "metadata": {},
          "output_type": "execute_result"
        }
      ],
      "source": [
        "predict_price1('Airoli',475,2,0,1)"
      ]
    },
    {
      "cell_type": "markdown",
      "metadata": {
        "id": "huMCCLJ_XILp"
      },
      "source": [
        "# pickle"
      ]
    },
    {
      "cell_type": "code",
      "execution_count": 45,
      "metadata": {
        "id": "eVPVTs-dkULP"
      },
      "outputs": [],
      "source": [
        "import pickle"
      ]
    },
    {
      "cell_type": "code",
      "execution_count": 46,
      "metadata": {
        "id": "dRdAGgFEkZ8L"
      },
      "outputs": [],
      "source": [
        "y_pred = model.predict(X_test)"
      ]
    },
    {
      "cell_type": "code",
      "execution_count": 47,
      "metadata": {
        "colab": {
          "base_uri": "https://localhost:8080/",
          "height": 592
        },
        "id": "9EPzxAYfkg5K",
        "outputId": "98e14b01-8eb0-4d59-c87c-93ed07f20608"
      },
      "outputs": [
        {
          "data": {
            "image/png": "[encoded data removed]",
            "text/plain": [
              "<Figure size 432x288 with 1 Axes>"
            ]
          },
          "metadata": {
            "needs_background": "light"
          },
          "output_type": "display_data"
        }
      ],
      "source": [
        "plt.scatter(Y_test,y_pred);"
      ]
    },
    {
      "cell_type": "code",
      "execution_count": 17,
      "metadata": {
        "colab": {
          "base_uri": "https://localhost:8080/",
          "height": 165
        },
        "id": "-GyAF3nqkXSC",
        "outputId": "f58f4d2c-2a58-4130-e034-2d41587dc055"
      },
      "outputs": [
        {
          "ename": "NameError",
          "evalue": "ignored",
          "output_type": "error",
          "traceback": [
            "\u001b[0;31m---------------------------------------------------------------------------\u001b[0m",
            "\u001b[0;31mNameError\u001b[0m                                 Traceback (most recent call last)",
            "\u001b[0;32m<ipython-input-17-01f5e3bae85d>\u001b[0m in \u001b[0;36m<module>\u001b[0;34m()\u001b[0m\n\u001b[0;32m----> 1\u001b[0;31m \u001b[0mpickle\u001b[0m\u001b[0;34m.\u001b[0m\u001b[0mdump\u001b[0m\u001b[0;34m(\u001b[0m\u001b[0mmodel\u001b[0m\u001b[0;34m,\u001b[0m \u001b[0mopen\u001b[0m\u001b[0;34m(\u001b[0m\u001b[0;34m'mumbai'\u001b[0m\u001b[0;34m,\u001b[0m\u001b[0;34m'wb'\u001b[0m\u001b[0;34m,\u001b[0m\u001b[0mencoding\u001b[0m \u001b[0;34m=\u001b[0m \u001b[0;34m\"ascii\"\u001b[0m\u001b[0;34m)\u001b[0m\u001b[0;34m)\u001b[0m\u001b[0;34m\u001b[0m\u001b[0;34m\u001b[0m\u001b[0m\n\u001b[0m",
            "\u001b[0;31mNameError\u001b[0m: name 'model' is not defined"
          ]
        }
      ],
      "source": [
        "pickle.dump(model, open('mumbai_house_prices_prediction.pickle','wb'))"
      ]
    },
    {
      "cell_type": "code",
      "execution_count": null,
      "metadata": {},
      "outputs": [],
      "source": [
        "def predict_house_price(Location,Area,bhk,Gymnasium,Lift):\n",
        "  loc_index = np.where(X.columns==Location)[0][0]\n",
        "\n",
        "  x = np.zeros(len(X.columns))\n",
        "  x[0] = Area\n",
        "  x[1] = bhk\n",
        "  x[2] = Gymnasium\n",
        "  x[3] = Lift\n",
        "\n",
        "  if loc_index >=0:\n",
        "    x[loc_index] = 1\n",
        "\n",
        "  model1 = pickle.load(open('mumbai_house_prices_prediction.pickle','rb'))\n",
        "\n",
        "  return model1.predict([x])[0]"
      ]
    },
    {
      "cell_type": "code",
      "execution_count": 16,
      "metadata": {
        "colab": {
          "base_uri": "https://localhost:8080/",
          "height": 182
        },
        "id": "rMsWXnq7vSMN",
        "outputId": "75a6927b-01f2-4db7-895c-357615886ac0"
      },
      "outputs": [
        {
          "ename": "TypeError",
          "evalue": "ignored",
          "output_type": "error",
          "traceback": [
            "\u001b[0;31m---------------------------------------------------------------------------\u001b[0m",
            "\u001b[0;31mTypeError\u001b[0m                                 Traceback (most recent call last)",
            "\u001b[0;32m<ipython-input-16-2ee822d75d89>\u001b[0m in \u001b[0;36m<module>\u001b[0;34m()\u001b[0m\n\u001b[1;32m      1\u001b[0m \u001b[0mmodel1\u001b[0m \u001b[0;34m=\u001b[0m \u001b[0mpickle\u001b[0m\u001b[0;34m.\u001b[0m\u001b[0mload\u001b[0m\u001b[0;34m(\u001b[0m\u001b[0mopen\u001b[0m\u001b[0;34m(\u001b[0m\u001b[0;34m'mumbai_house_prices_prediction.pickle'\u001b[0m\u001b[0;34m,\u001b[0m\u001b[0;34m'rb'\u001b[0m\u001b[0;34m)\u001b[0m\u001b[0;34m)\u001b[0m\u001b[0;34m\u001b[0m\u001b[0;34m\u001b[0m\u001b[0m\n\u001b[0;32m----> 2\u001b[0;31m \u001b[0mmodel1\u001b[0m\u001b[0;34m.\u001b[0m\u001b[0mpredict\u001b[0m\u001b[0;34m(\u001b[0m\u001b[0;34m[\u001b[0m\u001b[0;34m'Airoli'\u001b[0m\u001b[0;34m,\u001b[0m\u001b[0;36m475\u001b[0m\u001b[0;34m,\u001b[0m\u001b[0;36m2\u001b[0m\u001b[0;34m,\u001b[0m\u001b[0;36m0\u001b[0m\u001b[0;34m,\u001b[0m\u001b[0;36m1\u001b[0m\u001b[0;34m]\u001b[0m\u001b[0;34m,\u001b[0m\u001b[0mdtype\u001b[0m\u001b[0;34m=\u001b[0m\u001b[0mobject\u001b[0m\u001b[0;34m)\u001b[0m\u001b[0;34m\u001b[0m\u001b[0;34m\u001b[0m\u001b[0m\n\u001b[0m",
            "\u001b[0;31mTypeError\u001b[0m: predict() got an unexpected keyword argument 'dtype'"
          ]
        }
      ],
      "source": [
        "print('₹',predict_house_price('Airoli',475,2,0,1),'lakhs') "
      ]
    },
    {
      "cell_type": "markdown",
      "metadata": {
        "id": "kcc8Y7dwuTo8"
      },
      "source": [
        "# json"
      ]
    },
    {
      "cell_type": "code",
      "execution_count": null,
      "metadata": {
        "id": "6uJb5BoUuRDC"
      },
      "outputs": [],
      "source": [
        "import json\n",
        "columns={'data_column' :[col.lower() for col in X.columns]\n",
        "         }\n",
        "with open(\"columns.json\",\"w\") as f:\n",
        "  f.write(json.dumps(columns))"
      ]
    }
  ],
  "metadata": {
    "colab": {
      "name": "price prediction.ipynb",
      "provenance": []
    },
    "kernelspec": {
      "display_name": "Python 3.10.4 64-bit",
      "language": "python",
      "name": "python3"
    },
    "language_info": {
      "codemirror_mode": {
        "name": "ipython",
        "version": 3
      },
      "file_extension": ".py",
      "mimetype": "text/x-python",
      "name": "python",
      "nbconvert_exporter": "python",
      "pygments_lexer": "ipython3",
      "version": "3.10.4"
    },
    "vscode": {
      "interpreter": {
        "hash": "000d8d7b3edf292513c9596d5d39d7d8b60aec6f45dd1b175f6421bc8612a00c"
      }
    }
  },
  "nbformat": 4,
  "nbformat_minor": 0
}
